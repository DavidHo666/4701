{
 "nbformat": 4,
 "nbformat_minor": 0,
 "metadata": {
  "colab": {
   "name": "blackjack.ipynb",
   "provenance": []
  },
  "kernelspec": {
   "name": "python3",
   "display_name": "Python 3"
  },
  "language_info": {
   "name": "python"
  }
 },
 "cells": [
  {
   "cell_type": "code",
   "execution_count": 1,
   "metadata": {
    "id": "LisNI0xT2fID"
   },
   "outputs": [
    {
     "ename": "AttributeError",
     "evalue": "module 'numpy.typing' has no attribute 'NDArray'",
     "output_type": "error",
     "traceback": [
      "\u001B[0;31m---------------------------------------------------------------------------\u001B[0m",
      "\u001B[0;31mAttributeError\u001B[0m                            Traceback (most recent call last)",
      "\u001B[0;32m/var/folders/x0/z05b17v978q4gddrx64w9dt40000gn/T/ipykernel_20763/2092714276.py\u001B[0m in \u001B[0;36m<module>\u001B[0;34m\u001B[0m\n\u001B[1;32m      8\u001B[0m \"\"\"\n\u001B[1;32m      9\u001B[0m def value_iteration(\n\u001B[0;32m---> 10\u001B[0;31m     \u001B[0mV0\u001B[0m\u001B[0;34m:\u001B[0m \u001B[0mnpt\u001B[0m\u001B[0;34m.\u001B[0m\u001B[0mNDArray\u001B[0m\u001B[0;34m,\u001B[0m\u001B[0;34m\u001B[0m\u001B[0;34m\u001B[0m\u001B[0m\n\u001B[0m\u001B[1;32m     11\u001B[0m     \u001B[0mlr\u001B[0m\u001B[0;34m:\u001B[0m \u001B[0mfloat\u001B[0m\u001B[0;34m,\u001B[0m\u001B[0;34m\u001B[0m\u001B[0;34m\u001B[0m\u001B[0m\n\u001B[1;32m     12\u001B[0m     \u001B[0mgamma\u001B[0m\u001B[0;34m:\u001B[0m\u001B[0mfloat\u001B[0m\u001B[0;34m,\u001B[0m\u001B[0;34m\u001B[0m\u001B[0;34m\u001B[0m\u001B[0m\n",
      "\u001B[0;31mAttributeError\u001B[0m: module 'numpy.typing' has no attribute 'NDArray'"
     ]
    }
   ],
   "source": [
    "from typing import Tuple\n",
    "import numpy as np\n",
    "import numpy.typing as npt\n",
    "import matplotlib.pyplot as plt\n",
    "\n",
    "\"\"\"\n",
    "WRITE THIS FUNCTION\n",
    "\"\"\"\n",
    "def value_iteration(\n",
    "    V0: npt.NDArray, \n",
    "    lr: float, \n",
    "    gamma:float, \n",
    "    epsilon: float=1e-12\n",
    "    ) -> npt.NDArray:\n",
    "\n",
    "  return V0"
   ]
  },
  {
   "cell_type": "code",
   "source": [
    "\"\"\"\n",
    "WRITE THIS FUNCTION\n",
    "\"\"\"\n",
    "def value_to_policy(V: npt.NDArray, lr: float, gamma: float) -> npt.NDArray:\n",
    "  \n",
    "  return np.zeros(V.size)"
   ],
   "metadata": {
    "id": "1XYHKWmn2sqz"
   },
   "execution_count": 12,
   "outputs": []
  },
  {
   "cell_type": "code",
   "source": [
    "def draw() -> int:\n",
    "  probs = 1/13*np.ones(10)\n",
    "  probs[-1] *= 4\n",
    "  return np.random.choice(np.arange(1,11), p=probs)\n",
    "\n",
    "\n",
    "\"\"\"\n",
    "WRITE THIS FUNCTION\n",
    "\"\"\"\n",
    "def Qlearn(\n",
    "    Q0: npt.NDArray, \n",
    "    lr: float, \n",
    "    gamma: float, \n",
    "    alpha: float, \n",
    "    epsilon: float, \n",
    "    N: int\n",
    "    ) -> Tuple[npt.NDArray, npt.NDArray]:\n",
    "  \n",
    "  return Q0, np.zeros((N,3))"
   ],
   "metadata": {
    "id": "PMqrpfqK3ktc"
   },
   "execution_count": 13,
   "outputs": []
  },
  {
   "cell_type": "code",
   "source": [
    "def RL_analysis():\n",
    "  lr, gamma, alpha, epsilon, N = 0, 1, 0.1, 0.1, 10000\n",
    "  visits = np.zeros((22,6))\n",
    "  rewards = np.zeros((N,6))\n",
    "  values = np.zeros((22,6))\n",
    "\n",
    "  for i in range(6):\n",
    "    _, record = Qlearn(np.zeros((22,2)), lr, gamma, alpha, epsilon, 10000*i)\n",
    "    vals, counts = np.unique(record[:,0], return_counts=True)\n",
    "    visits[vals.astype(int),i] = counts\n",
    "    _, record = Qlearn(np.zeros((22,2)), lr, gamma, alpha, 0.2*i, N)\n",
    "    rewards[:,i] = record[:,2]\n",
    "    vals, _ = Qlearn(np.zeros((22,2)), lr, gamma, min(0.2*i+0.1,1), epsilon, N)\n",
    "    values[:,i] = np.max(vals, axis=1)\n",
    "\n",
    "  plt.figure()\n",
    "  plt.plot(visits)\n",
    "  plt.legend(['N=0', 'N=10k', 'N=20k', 'N=30k' ,'N=40k', 'N=50k'])\n",
    "  plt.title('Number of visits to each state')\n",
    "\n",
    "  plt.figure()\n",
    "  plt.plot(np.cumsum(rewards, axis=0))\n",
    "  plt.legend(['e=0.0', 'e=0.2', 'e=0.4' ,'e=0.6', 'e=0.8', 'e=1.0'])\n",
    "  plt.title('Cumulative rewards received')\n",
    "\n",
    "  plt.figure()\n",
    "  plt.plot(values)\n",
    "  plt.legend(['a=0.1' ,'a=0.3', 'a=0.5', 'a=0.7', 'a=0.9', 'a=1.0'])\n",
    "  plt.title('Estimated state values');"
   ],
   "metadata": {
    "id": "7kHL_WJE4MY5"
   },
   "execution_count": 14,
   "outputs": []
  }
 ]
}