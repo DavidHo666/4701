{
 "cells": [
  {
   "cell_type": "code",
   "execution_count": 1,
   "metadata": {
    "pycharm": {
     "name": "#%%\n"
    }
   },
   "outputs": [],
   "source": [
    "from pgmpy.utils import get_example_model\n",
    "from pgmpy.inference import VariableElimination\n",
    "from timeit import default_timer\n",
    "import math\n",
    "import matplotlib.pyplot as plt\n",
    "import numpy as np\n",
    "from pgmpy.inference import ApproxInference\n",
    "from pgmpy.factors.discrete import State\n",
    "from pgmpy.models import BayesianNetwork\n",
    "from pgmpy.factors.discrete import TabularCPD\n",
    "from pgmpy.sampling import BayesianModelSampling\n",
    "import pandas as pd\n",
    "from pgmpy.estimators import MaximumLikelihoodEstimator\n",
    "from pgmpy.estimators import ExpectationMaximization as EM"
   ]
  },
  {
   "cell_type": "markdown",
   "metadata": {
    "pycharm": {
     "name": "#%% md\n"
    }
   },
   "source": [
    "4.1"
   ]
  },
  {
   "cell_type": "markdown",
   "metadata": {
    "pycharm": {
     "name": "#%% md\n"
    }
   },
   "source": [
    "(a)"
   ]
  },
  {
   "cell_type": "code",
   "execution_count": 2,
   "metadata": {
    "pycharm": {
     "name": "#%%\n"
    }
   },
   "outputs": [],
   "source": [
    "task = [('earthquake','JohnCalls'),('survey','T'),('asia','dysp'),('sachs','Akt'),\n",
    "('child','LowerBodyO2'),('insurance','PropCost'),('alarm','BP'),('hailfinder','R5Fcst')]"
   ]
  },
  {
   "cell_type": "code",
   "execution_count": 3,
   "metadata": {
    "pycharm": {
     "name": "#%%\n"
    }
   },
   "outputs": [
    {
     "data": {
      "application/vnd.jupyter.widget-view+json": {
       "model_id": "2217ed901b8242da9e8138558a0ec43c",
       "version_major": 2,
       "version_minor": 0
      },
      "text/plain": [
       "  0%|          | 0/3 [00:00<?, ?it/s]"
      ]
     },
     "metadata": {},
     "output_type": "display_data"
    },
    {
     "data": {
      "application/vnd.jupyter.widget-view+json": {
       "model_id": "20f3a89ce7864cd987eda7ee2eb7c143",
       "version_major": 2,
       "version_minor": 0
      },
      "text/plain": [
       "  0%|          | 0/3 [00:00<?, ?it/s]"
      ]
     },
     "metadata": {},
     "output_type": "display_data"
    },
    {
     "data": {
      "application/vnd.jupyter.widget-view+json": {
       "model_id": "f78b0a9c099c48bd9f3444c70d1129c0",
       "version_major": 2,
       "version_minor": 0
      },
      "text/plain": [
       "  0%|          | 0/5 [00:00<?, ?it/s]"
      ]
     },
     "metadata": {},
     "output_type": "display_data"
    },
    {
     "data": {
      "application/vnd.jupyter.widget-view+json": {
       "model_id": "59223566de474611a6ff2531c58c0657",
       "version_major": 2,
       "version_minor": 0
      },
      "text/plain": [
       "  0%|          | 0/5 [00:00<?, ?it/s]"
      ]
     },
     "metadata": {},
     "output_type": "display_data"
    },
    {
     "data": {
      "application/vnd.jupyter.widget-view+json": {
       "model_id": "919682ea9675424981d998a697e9d3ab",
       "version_major": 2,
       "version_minor": 0
      },
      "text/plain": [
       "  0%|          | 0/6 [00:00<?, ?it/s]"
      ]
     },
     "metadata": {},
     "output_type": "display_data"
    },
    {
     "data": {
      "application/vnd.jupyter.widget-view+json": {
       "model_id": "cf381fc305534f379abb43ac165c6410",
       "version_major": 2,
       "version_minor": 0
      },
      "text/plain": [
       "  0%|          | 0/6 [00:00<?, ?it/s]"
      ]
     },
     "metadata": {},
     "output_type": "display_data"
    },
    {
     "data": {
      "application/vnd.jupyter.widget-view+json": {
       "model_id": "be4ba3dde0b143d1b2068c759eb2e9ac",
       "version_major": 2,
       "version_minor": 0
      },
      "text/plain": [
       "  0%|          | 0/5 [00:00<?, ?it/s]"
      ]
     },
     "metadata": {},
     "output_type": "display_data"
    },
    {
     "data": {
      "application/vnd.jupyter.widget-view+json": {
       "model_id": "1106d0cd4c6b4749ace48da3293a8af6",
       "version_major": 2,
       "version_minor": 0
      },
      "text/plain": [
       "  0%|          | 0/5 [00:00<?, ?it/s]"
      ]
     },
     "metadata": {},
     "output_type": "display_data"
    },
    {
     "data": {
      "application/vnd.jupyter.widget-view+json": {
       "model_id": "5968bb05d6774b1082be4aea5a8a80fc",
       "version_major": 2,
       "version_minor": 0
      },
      "text/plain": [
       "  0%|          | 0/7 [00:00<?, ?it/s]"
      ]
     },
     "metadata": {},
     "output_type": "display_data"
    },
    {
     "data": {
      "application/vnd.jupyter.widget-view+json": {
       "model_id": "928249d74a9b47a4941849167f941324",
       "version_major": 2,
       "version_minor": 0
      },
      "text/plain": [
       "  0%|          | 0/7 [00:00<?, ?it/s]"
      ]
     },
     "metadata": {},
     "output_type": "display_data"
    },
    {
     "data": {
      "application/vnd.jupyter.widget-view+json": {
       "model_id": "547c1fd2c06646b293626bd854f3af29",
       "version_major": 2,
       "version_minor": 0
      },
      "text/plain": [
       "  0%|          | 0/19 [00:00<?, ?it/s]"
      ]
     },
     "metadata": {},
     "output_type": "display_data"
    },
    {
     "data": {
      "application/vnd.jupyter.widget-view+json": {
       "model_id": "8099f80a0bfa46db89c03bad4e8b4da9",
       "version_major": 2,
       "version_minor": 0
      },
      "text/plain": [
       "  0%|          | 0/19 [00:00<?, ?it/s]"
      ]
     },
     "metadata": {},
     "output_type": "display_data"
    },
    {
     "data": {
      "application/vnd.jupyter.widget-view+json": {
       "model_id": "84997bc7a5754da4aedd0b9697a59153",
       "version_major": 2,
       "version_minor": 0
      },
      "text/plain": [
       "  0%|          | 0/23 [00:00<?, ?it/s]"
      ]
     },
     "metadata": {},
     "output_type": "display_data"
    },
    {
     "data": {
      "application/vnd.jupyter.widget-view+json": {
       "model_id": "3a19c6c9b4d246eeb73ef87c4ad1dd49",
       "version_major": 2,
       "version_minor": 0
      },
      "text/plain": [
       "  0%|          | 0/23 [00:00<?, ?it/s]"
      ]
     },
     "metadata": {},
     "output_type": "display_data"
    },
    {
     "data": {
      "application/vnd.jupyter.widget-view+json": {
       "model_id": "772c818bf2634d0e9a67b6fe436e0af9",
       "version_major": 2,
       "version_minor": 0
      },
      "text/plain": [
       "  0%|          | 0/43 [00:00<?, ?it/s]"
      ]
     },
     "metadata": {},
     "output_type": "display_data"
    },
    {
     "data": {
      "application/vnd.jupyter.widget-view+json": {
       "model_id": "b26cd96448134ee8a42073cfb4f2641f",
       "version_major": 2,
       "version_minor": 0
      },
      "text/plain": [
       "  0%|          | 0/43 [00:00<?, ?it/s]"
      ]
     },
     "metadata": {},
     "output_type": "display_data"
    }
   ],
   "source": [
    "num_nodes=[]\n",
    "duration = []\n",
    "num_param = [10,21,18,178,230,984,509,2656]\n",
    "for model_name, var in task:\n",
    "    model = get_example_model(model_name)\n",
    "    num_nodes.append(len(model.nodes()))\n",
    "    infer = VariableElimination(model)\n",
    "    start = default_timer()\n",
    "    q=infer.query(variables=[var])\n",
    "    end = default_timer()\n",
    "    duration.append(math.log((end-start)))\n",
    "\n"
   ]
  },
  {
   "cell_type": "code",
   "execution_count": 4,
   "metadata": {
    "pycharm": {
     "name": "#%%\n"
    }
   },
   "outputs": [
    {
     "data": {
      "text/plain": [
       "[Text(0.5, 0, 'Number of parameters')]"
      ]
     },
     "execution_count": 4,
     "metadata": {},
     "output_type": "execute_result"
    },
    {
     "data": {
      "image/png": "[encoded data removed]",
      "text/plain": [
       "<Figure size 432x288 with 2 Axes>"
      ]
     },
     "metadata": {
      "needs_background": "light"
     },
     "output_type": "display_data"
    }
   ],
   "source": [
    "fig, (ax1, ax2) = plt.subplots(1, 2)\n",
    "fig.suptitle('4.1(a)')\n",
    "ax1.scatter(num_nodes, duration)\n",
    "ax1.set(xlabel='Number of nodes', ylabel='Log of seconds taken')\n",
    "ax2.scatter(num_param, duration)\n",
    "ax2.set(xlabel='Number of parameters')"
   ]
  },
  {
   "cell_type": "markdown",
   "metadata": {
    "pycharm": {
     "name": "#%% md\n"
    }
   },
   "source": [
    "We can see that the log of second taken has quadratic relation with number of nodes and log of second taken has linear relation with number of parameters. So exact inference is generally exponential in Bayes net size."
   ]
  },
  {
   "cell_type": "markdown",
   "metadata": {
    "pycharm": {
     "name": "#%% md\n"
    }
   },
   "source": [
    "(b)"
   ]
  },
  {
   "cell_type": "code",
   "execution_count": 38,
   "metadata": {
    "pycharm": {
     "name": "#%%\n"
    }
   },
   "outputs": [
    {
     "data": {
      "application/vnd.jupyter.widget-view+json": {
       "model_id": "3d1fb2a6774b46aea36f9657681170d3",
       "version_major": 2,
       "version_minor": 0
      },
      "text/plain": [
       "  0%|          | 0/3 [00:00<?, ?it/s]"
      ]
     },
     "metadata": {},
     "output_type": "display_data"
    },
    {
     "data": {
      "application/vnd.jupyter.widget-view+json": {
       "model_id": "50e02df9468e450eaf48b8c7938dcbf1",
       "version_major": 2,
       "version_minor": 0
      },
      "text/plain": [
       "  0%|          | 0/3 [00:00<?, ?it/s]"
      ]
     },
     "metadata": {},
     "output_type": "display_data"
    },
    {
     "data": {
      "application/vnd.jupyter.widget-view+json": {
       "model_id": "44f733c860cc448da0a96f1c2c0b433d",
       "version_major": 2,
       "version_minor": 0
      },
      "text/plain": [
       "  0%|          | 0/5 [00:00<?, ?it/s]"
      ]
     },
     "metadata": {},
     "output_type": "display_data"
    },
    {
     "data": {
      "application/vnd.jupyter.widget-view+json": {
       "model_id": "29a73ebb5b594c06982034078d62717b",
       "version_major": 2,
       "version_minor": 0
      },
      "text/plain": [
       "  0%|          | 0/5 [00:00<?, ?it/s]"
      ]
     },
     "metadata": {},
     "output_type": "display_data"
    },
    {
     "data": {
      "application/vnd.jupyter.widget-view+json": {
       "model_id": "3a1ef25ec38142e58a4712294dc93eaa",
       "version_major": 2,
       "version_minor": 0
      },
      "text/plain": [
       "  0%|          | 0/6 [00:00<?, ?it/s]"
      ]
     },
     "metadata": {},
     "output_type": "display_data"
    },
    {
     "data": {
      "application/vnd.jupyter.widget-view+json": {
       "model_id": "ff4dd567d6d444418cc1b6f933b338af",
       "version_major": 2,
       "version_minor": 0
      },
      "text/plain": [
       "  0%|          | 0/6 [00:00<?, ?it/s]"
      ]
     },
     "metadata": {},
     "output_type": "display_data"
    },
    {
     "data": {
      "application/vnd.jupyter.widget-view+json": {
       "model_id": "cdce982bb6ca46cebe84aa7377c89995",
       "version_major": 2,
       "version_minor": 0
      },
      "text/plain": [
       "  0%|          | 0/5 [00:00<?, ?it/s]"
      ]
     },
     "metadata": {},
     "output_type": "display_data"
    },
    {
     "data": {
      "application/vnd.jupyter.widget-view+json": {
       "model_id": "fa6b68125e494e56b52a6bcd49dc14e8",
       "version_major": 2,
       "version_minor": 0
      },
      "text/plain": [
       "  0%|          | 0/5 [00:00<?, ?it/s]"
      ]
     },
     "metadata": {},
     "output_type": "display_data"
    },
    {
     "data": {
      "application/vnd.jupyter.widget-view+json": {
       "model_id": "eb1908f0d7aa42e6aed0e7d206c0c318",
       "version_major": 2,
       "version_minor": 0
      },
      "text/plain": [
       "  0%|          | 0/7 [00:00<?, ?it/s]"
      ]
     },
     "metadata": {},
     "output_type": "display_data"
    },
    {
     "data": {
      "application/vnd.jupyter.widget-view+json": {
       "model_id": "28069d50d924462e8d3d09d31cd37b9f",
       "version_major": 2,
       "version_minor": 0
      },
      "text/plain": [
       "  0%|          | 0/7 [00:00<?, ?it/s]"
      ]
     },
     "metadata": {},
     "output_type": "display_data"
    },
    {
     "data": {
      "application/vnd.jupyter.widget-view+json": {
       "model_id": "a6ad27df20ab41bf8fcbfb350b919033",
       "version_major": 2,
       "version_minor": 0
      },
      "text/plain": [
       "  0%|          | 0/19 [00:00<?, ?it/s]"
      ]
     },
     "metadata": {},
     "output_type": "display_data"
    },
    {
     "data": {
      "application/vnd.jupyter.widget-view+json": {
       "model_id": "207f5012d9104a189826c546b98340e7",
       "version_major": 2,
       "version_minor": 0
      },
      "text/plain": [
       "  0%|          | 0/19 [00:00<?, ?it/s]"
      ]
     },
     "metadata": {},
     "output_type": "display_data"
    },
    {
     "data": {
      "application/vnd.jupyter.widget-view+json": {
       "model_id": "288a7bf7e15f499eb79b1dd8a1e33da7",
       "version_major": 2,
       "version_minor": 0
      },
      "text/plain": [
       "  0%|          | 0/23 [00:00<?, ?it/s]"
      ]
     },
     "metadata": {},
     "output_type": "display_data"
    },
    {
     "data": {
      "application/vnd.jupyter.widget-view+json": {
       "model_id": "cb84a8de5c21451fa79cb8b77edfba2a",
       "version_major": 2,
       "version_minor": 0
      },
      "text/plain": [
       "  0%|          | 0/23 [00:00<?, ?it/s]"
      ]
     },
     "metadata": {},
     "output_type": "display_data"
    },
    {
     "data": {
      "application/vnd.jupyter.widget-view+json": {
       "model_id": "2ae71f8402e347c4945d0a3336948877",
       "version_major": 2,
       "version_minor": 0
      },
      "text/plain": [
       "  0%|          | 0/43 [00:00<?, ?it/s]"
      ]
     },
     "metadata": {},
     "output_type": "display_data"
    },
    {
     "data": {
      "application/vnd.jupyter.widget-view+json": {
       "model_id": "6fe15c0fe5c04f8cb43190769feee332",
       "version_major": 2,
       "version_minor": 0
      },
      "text/plain": [
       "  0%|          | 0/43 [00:00<?, ?it/s]"
      ]
     },
     "metadata": {},
     "output_type": "display_data"
    }
   ],
   "source": [
    "num_nodes=[]\n",
    "duration = []\n",
    "num_param = [10,21,18,178,230,984,509,2656]\n",
    "for model_name, var in task:\n",
    "    model = get_example_model(model_name)\n",
    "    num_nodes.append(len(model.nodes()))\n",
    "    infer = VariableElimination(model)\n",
    "    start = default_timer()\n",
    "    q=infer.query(variables=[var],elimination_order='MinNeighbors')\n",
    "    end = default_timer()\n",
    "    duration.append(math.log((end-start)))"
   ]
  },
  {
   "cell_type": "code",
   "execution_count": 40,
   "metadata": {
    "pycharm": {
     "name": "#%%\n"
    }
   },
   "outputs": [
    {
     "data": {
      "text/plain": [
       "[Text(0.5, 0, 'Number of parameters')]"
      ]
     },
     "execution_count": 40,
     "metadata": {},
     "output_type": "execute_result"
    },
    {
     "data": {
      "image/png": "[encoded data removed]",
      "text/plain": [
       "<Figure size 432x288 with 2 Axes>"
      ]
     },
     "metadata": {
      "needs_background": "light"
     },
     "output_type": "display_data"
    }
   ],
   "source": [
    "fig, (ax1, ax2) = plt.subplots(1, 2)\n",
    "fig.suptitle('4.1(b)')\n",
    "ax1.scatter(num_nodes, duration)\n",
    "ax1.set(xlabel='Number of nodes', ylabel='Log of seconds taken')\n",
    "ax2.scatter(num_param, duration)\n",
    "ax2.set(xlabel='Number of parameters')"
   ]
  },
  {
   "cell_type": "markdown",
   "metadata": {
    "pycharm": {
     "name": "#%% md\n"
    }
   },
   "source": [
    "We can see that in plot (b), each point has less log time taken. So elimination order is important to the efficiency of inference. If we can find a good elimination order, we can have smaller size of tables during the calculation, which can save us a lot of time and memery."
   ]
  },
  {
   "cell_type": "markdown",
   "metadata": {
    "pycharm": {
     "name": "#%% md\n"
    }
   },
   "source": [
    "4.2"
   ]
  },
  {
   "cell_type": "code",
   "execution_count": 41,
   "metadata": {
    "pycharm": {
     "name": "#%%\n"
    }
   },
   "outputs": [],
   "source": [
    "insurance_model = get_example_model('insurance')"
   ]
  },
  {
   "cell_type": "code",
   "execution_count": 42,
   "metadata": {
    "pycharm": {
     "name": "#%%\n"
    }
   },
   "outputs": [],
   "source": [
    "insurance_infer = VariableElimination(insurance_model)"
   ]
  },
  {
   "cell_type": "code",
   "execution_count": 43,
   "metadata": {
    "pycharm": {
     "name": "#%%\n"
    }
   },
   "outputs": [
    {
     "data": {
      "application/vnd.jupyter.widget-view+json": {
       "model_id": "719606b16da74ef8870b848642c88b87",
       "version_major": 2,
       "version_minor": 0
      },
      "text/plain": [
       "  0%|          | 0/19 [00:00<?, ?it/s]"
      ]
     },
     "metadata": {},
     "output_type": "display_data"
    },
    {
     "data": {
      "application/vnd.jupyter.widget-view+json": {
       "model_id": "821028fad4e44d2094b0cd57c24e2762",
       "version_major": 2,
       "version_minor": 0
      },
      "text/plain": [
       "  0%|          | 0/19 [00:00<?, ?it/s]"
      ]
     },
     "metadata": {},
     "output_type": "display_data"
    },
    {
     "name": "stdout",
     "output_type": "stream",
     "text": [
      "+-----------------------+-----------------+\n",
      "| PropCost              |   phi(PropCost) |\n",
      "+=======================+=================+\n",
      "| PropCost(Thousand)    |          0.5629 |\n",
      "+-----------------------+-----------------+\n",
      "| PropCost(TenThou)     |          0.3152 |\n",
      "+-----------------------+-----------------+\n",
      "| PropCost(HundredThou) |          0.1051 |\n",
      "+-----------------------+-----------------+\n",
      "| PropCost(Million)     |          0.0168 |\n",
      "+-----------------------+-----------------+\n"
     ]
    }
   ],
   "source": [
    "q=insurance_infer.query(variables=['PropCost'])\n",
    "print(q)"
   ]
  },
  {
   "cell_type": "code",
   "execution_count": 50,
   "metadata": {
    "pycharm": {
     "name": "#%%\n"
    }
   },
   "outputs": [],
   "source": [
    "prop_values = q.values\n",
    "prop_domains = q.state_names['PropCost']"
   ]
  },
  {
   "cell_type": "code",
   "execution_count": 57,
   "metadata": {
    "pycharm": {
     "name": "#%%\n"
    }
   },
   "outputs": [
    {
     "data": {
      "text/plain": [
       "(array([0.56294559, 0.31518759, 0.10507029, 0.01679652]),\n",
       " ['Thousand', 'TenThou', 'HundredThou', 'Million'])"
      ]
     },
     "execution_count": 57,
     "metadata": {},
     "output_type": "execute_result"
    }
   ],
   "source": [
    "prop_values,prop_domains"
   ]
  },
  {
   "cell_type": "markdown",
   "metadata": {
    "pycharm": {
     "name": "#%% md\n"
    }
   },
   "source": [
    "(a)"
   ]
  },
  {
   "cell_type": "code",
   "execution_count": null,
   "metadata": {
    "pycharm": {
     "is_executing": true,
     "name": "#%%\n"
    }
   },
   "outputs": [],
   "source": [
    "insurance_approxinfer = ApproxInference(insurance_model)\n",
    "\n",
    "num_samples =[x for x in range(100, 10001, 100)]\n",
    "errors = []\n",
    "duration = []\n",
    "\n",
    "for n in range(100, 10001, 100):\n",
    "    start = default_timer()\n",
    "    q=insurance_approxinfer.query(variables=['PropCost'],n_samples=n)\n",
    "    end = default_timer()\n",
    "    duration.append((end-start))\n",
    "    approx_values = np.array([q.values[idx] for idx in [q.name_to_no['PropCost'][name] for name in prop_domains]])\n",
    "    errors.append(np.linalg.norm(np.subtract(approx_values,prop_values)))\n"
   ]
  },
  {
   "cell_type": "code",
   "execution_count": 86,
   "metadata": {
    "pycharm": {
     "name": "#%%\n"
    }
   },
   "outputs": [
    {
     "data": {
      "text/plain": [
       "[Text(0.5, 0, 'Number of samples'), Text(0, 0.5, 'Error')]"
      ]
     },
     "execution_count": 86,
     "metadata": {},
     "output_type": "execute_result"
    },
    {
     "data": {
      "image/png": "[encoded data removed]",
      "text/plain": [
       "<Figure size 432x288 with 2 Axes>"
      ]
     },
     "metadata": {
      "needs_background": "light"
     },
     "output_type": "display_data"
    }
   ],
   "source": [
    "fig, (ax1, ax2) = plt.subplots(1, 2)\n",
    "fig.suptitle('4.2(a)')\n",
    "ax1.scatter(num_samples, duration)\n",
    "ax1.set(xlabel='Number of samples', ylabel='Time')\n",
    "ax2.scatter(num_samples, errors)\n",
    "ax2.set(xlabel='Number of samples', ylabel='Error')"
   ]
  },
  {
   "cell_type": "markdown",
   "metadata": {
    "pycharm": {
     "name": "#%% md\n"
    }
   },
   "source": [
    "(b)\n",
    "Computational complexity has positive linear relation with number of samples. Using sampling has a faster speed than computing exact inference but it has relative large error if the sample size is small. After 7500 number of samples the error stop improving. The average error to the exact inference is around 0.005 after 7500 number of samples."
   ]
  },
  {
   "cell_type": "markdown",
   "metadata": {
    "pycharm": {
     "name": "#%% md\n"
    }
   },
   "source": [
    "(c)"
   ]
  },
  {
   "cell_type": "code",
   "execution_count": 98,
   "metadata": {
    "pycharm": {
     "name": "#%%\n"
    }
   },
   "outputs": [],
   "source": [
    "all_evidence = [State('Age','Adult'), State('DrivHist','Zero'), State('VehicleYear','Current'),\n",
    "State('ThisCarDam','None'), State('MakeModel','Luxury'), State('HomeBase','City'),\n",
    "State('Cushioning','Good'), State('Airbag','True'), State('AntiTheft','True')]\n"
   ]
  },
  {
   "cell_type": "code",
   "execution_count": 109,
   "metadata": {
    "pycharm": {
     "name": "#%%\n"
    }
   },
   "outputs": [
    {
     "name": "stderr",
     "output_type": "stream",
     "text": [
      "C:\\Users\\David\\anaconda3\\lib\\site-packages\\pgmpy\\sampling\\Sampling.py:227: FutureWarning: The frame.append method is deprecated and will be removed from pandas in a future version. Use pandas.concat instead.\n",
      "  sampled = sampled.append(_sampled).iloc[:size, :]\n",
      "C:\\Users\\David\\anaconda3\\lib\\site-packages\\pgmpy\\sampling\\Sampling.py:227: FutureWarning: The frame.append method is deprecated and will be removed from pandas in a future version. Use pandas.concat instead.\n",
      "  sampled = sampled.append(_sampled).iloc[:size, :]\n",
      "C:\\Users\\David\\anaconda3\\lib\\site-packages\\pgmpy\\sampling\\Sampling.py:227: FutureWarning: The frame.append method is deprecated and will be removed from pandas in a future version. Use pandas.concat instead.\n",
      "  sampled = sampled.append(_sampled).iloc[:size, :]\n",
      "C:\\Users\\David\\anaconda3\\lib\\site-packages\\pgmpy\\sampling\\Sampling.py:227: FutureWarning: The frame.append method is deprecated and will be removed from pandas in a future version. Use pandas.concat instead.\n",
      "  sampled = sampled.append(_sampled).iloc[:size, :]\n",
      "C:\\Users\\David\\anaconda3\\lib\\site-packages\\pgmpy\\sampling\\Sampling.py:227: FutureWarning: The frame.append method is deprecated and will be removed from pandas in a future version. Use pandas.concat instead.\n",
      "  sampled = sampled.append(_sampled).iloc[:size, :]\n",
      "C:\\Users\\David\\anaconda3\\lib\\site-packages\\pgmpy\\sampling\\Sampling.py:227: FutureWarning: The frame.append method is deprecated and will be removed from pandas in a future version. Use pandas.concat instead.\n",
      "  sampled = sampled.append(_sampled).iloc[:size, :]\n",
      "C:\\Users\\David\\anaconda3\\lib\\site-packages\\pgmpy\\sampling\\Sampling.py:227: FutureWarning: The frame.append method is deprecated and will be removed from pandas in a future version. Use pandas.concat instead.\n",
      "  sampled = sampled.append(_sampled).iloc[:size, :]\n",
      "C:\\Users\\David\\anaconda3\\lib\\site-packages\\pgmpy\\sampling\\Sampling.py:227: FutureWarning: The frame.append method is deprecated and will be removed from pandas in a future version. Use pandas.concat instead.\n",
      "  sampled = sampled.append(_sampled).iloc[:size, :]\n",
      "C:\\Users\\David\\anaconda3\\lib\\site-packages\\pgmpy\\sampling\\Sampling.py:227: FutureWarning: The frame.append method is deprecated and will be removed from pandas in a future version. Use pandas.concat instead.\n",
      "  sampled = sampled.append(_sampled).iloc[:size, :]\n",
      "C:\\Users\\David\\anaconda3\\lib\\site-packages\\pgmpy\\sampling\\Sampling.py:227: FutureWarning: The frame.append method is deprecated and will be removed from pandas in a future version. Use pandas.concat instead.\n",
      "  sampled = sampled.append(_sampled).iloc[:size, :]\n",
      "C:\\Users\\David\\anaconda3\\lib\\site-packages\\pgmpy\\sampling\\Sampling.py:227: FutureWarning: The frame.append method is deprecated and will be removed from pandas in a future version. Use pandas.concat instead.\n",
      "  sampled = sampled.append(_sampled).iloc[:size, :]\n",
      "C:\\Users\\David\\anaconda3\\lib\\site-packages\\pgmpy\\sampling\\Sampling.py:227: FutureWarning: The frame.append method is deprecated and will be removed from pandas in a future version. Use pandas.concat instead.\n",
      "  sampled = sampled.append(_sampled).iloc[:size, :]\n",
      "C:\\Users\\David\\anaconda3\\lib\\site-packages\\pgmpy\\sampling\\Sampling.py:227: FutureWarning: The frame.append method is deprecated and will be removed from pandas in a future version. Use pandas.concat instead.\n",
      "  sampled = sampled.append(_sampled).iloc[:size, :]\n",
      "C:\\Users\\David\\anaconda3\\lib\\site-packages\\pgmpy\\sampling\\Sampling.py:227: FutureWarning: The frame.append method is deprecated and will be removed from pandas in a future version. Use pandas.concat instead.\n",
      "  sampled = sampled.append(_sampled).iloc[:size, :]\n",
      "C:\\Users\\David\\anaconda3\\lib\\site-packages\\pgmpy\\sampling\\Sampling.py:227: FutureWarning: The frame.append method is deprecated and will be removed from pandas in a future version. Use pandas.concat instead.\n",
      "  sampled = sampled.append(_sampled).iloc[:size, :]\n",
      "C:\\Users\\David\\anaconda3\\lib\\site-packages\\pgmpy\\sampling\\Sampling.py:227: FutureWarning: The frame.append method is deprecated and will be removed from pandas in a future version. Use pandas.concat instead.\n",
      "  sampled = sampled.append(_sampled).iloc[:size, :]\n",
      "C:\\Users\\David\\anaconda3\\lib\\site-packages\\pgmpy\\sampling\\Sampling.py:227: FutureWarning: The frame.append method is deprecated and will be removed from pandas in a future version. Use pandas.concat instead.\n",
      "  sampled = sampled.append(_sampled).iloc[:size, :]\n",
      "C:\\Users\\David\\anaconda3\\lib\\site-packages\\pgmpy\\sampling\\Sampling.py:227: FutureWarning: The frame.append method is deprecated and will be removed from pandas in a future version. Use pandas.concat instead.\n",
      "  sampled = sampled.append(_sampled).iloc[:size, :]\n",
      "C:\\Users\\David\\anaconda3\\lib\\site-packages\\pgmpy\\sampling\\Sampling.py:227: FutureWarning: The frame.append method is deprecated and will be removed from pandas in a future version. Use pandas.concat instead.\n",
      "  sampled = sampled.append(_sampled).iloc[:size, :]\n",
      "C:\\Users\\David\\anaconda3\\lib\\site-packages\\pgmpy\\sampling\\Sampling.py:227: FutureWarning: The frame.append method is deprecated and will be removed from pandas in a future version. Use pandas.concat instead.\n",
      "  sampled = sampled.append(_sampled).iloc[:size, :]\n",
      "C:\\Users\\David\\anaconda3\\lib\\site-packages\\pgmpy\\sampling\\Sampling.py:227: FutureWarning: The frame.append method is deprecated and will be removed from pandas in a future version. Use pandas.concat instead.\n",
      "  sampled = sampled.append(_sampled).iloc[:size, :]\n",
      "C:\\Users\\David\\anaconda3\\lib\\site-packages\\pgmpy\\sampling\\Sampling.py:227: FutureWarning: The frame.append method is deprecated and will be removed from pandas in a future version. Use pandas.concat instead.\n",
      "  sampled = sampled.append(_sampled).iloc[:size, :]\n",
      "C:\\Users\\David\\anaconda3\\lib\\site-packages\\pgmpy\\sampling\\Sampling.py:227: FutureWarning: The frame.append method is deprecated and will be removed from pandas in a future version. Use pandas.concat instead.\n",
      "  sampled = sampled.append(_sampled).iloc[:size, :]\n",
      "C:\\Users\\David\\anaconda3\\lib\\site-packages\\pgmpy\\sampling\\Sampling.py:227: FutureWarning: The frame.append method is deprecated and will be removed from pandas in a future version. Use pandas.concat instead.\n",
      "  sampled = sampled.append(_sampled).iloc[:size, :]\n",
      "C:\\Users\\David\\anaconda3\\lib\\site-packages\\pgmpy\\sampling\\Sampling.py:227: FutureWarning: The frame.append method is deprecated and will be removed from pandas in a future version. Use pandas.concat instead.\n",
      "  sampled = sampled.append(_sampled).iloc[:size, :]\n",
      "C:\\Users\\David\\anaconda3\\lib\\site-packages\\pgmpy\\sampling\\Sampling.py:227: FutureWarning: The frame.append method is deprecated and will be removed from pandas in a future version. Use pandas.concat instead.\n",
      "  sampled = sampled.append(_sampled).iloc[:size, :]\n",
      "C:\\Users\\David\\anaconda3\\lib\\site-packages\\pgmpy\\sampling\\Sampling.py:227: FutureWarning: The frame.append method is deprecated and will be removed from pandas in a future version. Use pandas.concat instead.\n",
      "  sampled = sampled.append(_sampled).iloc[:size, :]\n",
      "C:\\Users\\David\\anaconda3\\lib\\site-packages\\pgmpy\\sampling\\Sampling.py:227: FutureWarning: The frame.append method is deprecated and will be removed from pandas in a future version. Use pandas.concat instead.\n",
      "  sampled = sampled.append(_sampled).iloc[:size, :]\n",
      "C:\\Users\\David\\anaconda3\\lib\\site-packages\\pgmpy\\sampling\\Sampling.py:227: FutureWarning: The frame.append method is deprecated and will be removed from pandas in a future version. Use pandas.concat instead.\n",
      "  sampled = sampled.append(_sampled).iloc[:size, :]\n",
      "C:\\Users\\David\\anaconda3\\lib\\site-packages\\pgmpy\\sampling\\Sampling.py:227: FutureWarning: The frame.append method is deprecated and will be removed from pandas in a future version. Use pandas.concat instead.\n",
      "  sampled = sampled.append(_sampled).iloc[:size, :]\n",
      "C:\\Users\\David\\anaconda3\\lib\\site-packages\\pgmpy\\sampling\\Sampling.py:227: FutureWarning: The frame.append method is deprecated and will be removed from pandas in a future version. Use pandas.concat instead.\n",
      "  sampled = sampled.append(_sampled).iloc[:size, :]\n",
      "C:\\Users\\David\\anaconda3\\lib\\site-packages\\pgmpy\\sampling\\Sampling.py:227: FutureWarning: The frame.append method is deprecated and will be removed from pandas in a future version. Use pandas.concat instead.\n",
      "  sampled = sampled.append(_sampled).iloc[:size, :]\n",
      "C:\\Users\\David\\anaconda3\\lib\\site-packages\\pgmpy\\sampling\\Sampling.py:227: FutureWarning: The frame.append method is deprecated and will be removed from pandas in a future version. Use pandas.concat instead.\n",
      "  sampled = sampled.append(_sampled).iloc[:size, :]\n",
      "C:\\Users\\David\\anaconda3\\lib\\site-packages\\pgmpy\\sampling\\Sampling.py:227: FutureWarning: The frame.append method is deprecated and will be removed from pandas in a future version. Use pandas.concat instead.\n",
      "  sampled = sampled.append(_sampled).iloc[:size, :]\n",
      "C:\\Users\\David\\anaconda3\\lib\\site-packages\\pgmpy\\sampling\\Sampling.py:227: FutureWarning: The frame.append method is deprecated and will be removed from pandas in a future version. Use pandas.concat instead.\n",
      "  sampled = sampled.append(_sampled).iloc[:size, :]\n",
      "C:\\Users\\David\\anaconda3\\lib\\site-packages\\pgmpy\\sampling\\Sampling.py:227: FutureWarning: The frame.append method is deprecated and will be removed from pandas in a future version. Use pandas.concat instead.\n",
      "  sampled = sampled.append(_sampled).iloc[:size, :]\n",
      "C:\\Users\\David\\anaconda3\\lib\\site-packages\\pgmpy\\sampling\\Sampling.py:227: FutureWarning: The frame.append method is deprecated and will be removed from pandas in a future version. Use pandas.concat instead.\n",
      "  sampled = sampled.append(_sampled).iloc[:size, :]\n",
      "C:\\Users\\David\\anaconda3\\lib\\site-packages\\pgmpy\\sampling\\Sampling.py:227: FutureWarning: The frame.append method is deprecated and will be removed from pandas in a future version. Use pandas.concat instead.\n",
      "  sampled = sampled.append(_sampled).iloc[:size, :]\n",
      "C:\\Users\\David\\anaconda3\\lib\\site-packages\\pgmpy\\sampling\\Sampling.py:227: FutureWarning: The frame.append method is deprecated and will be removed from pandas in a future version. Use pandas.concat instead.\n",
      "  sampled = sampled.append(_sampled).iloc[:size, :]\n",
      "C:\\Users\\David\\anaconda3\\lib\\site-packages\\pgmpy\\sampling\\Sampling.py:227: FutureWarning: The frame.append method is deprecated and will be removed from pandas in a future version. Use pandas.concat instead.\n",
      "  sampled = sampled.append(_sampled).iloc[:size, :]\n",
      "C:\\Users\\David\\anaconda3\\lib\\site-packages\\pgmpy\\sampling\\Sampling.py:227: FutureWarning: The frame.append method is deprecated and will be removed from pandas in a future version. Use pandas.concat instead.\n",
      "  sampled = sampled.append(_sampled).iloc[:size, :]\n",
      "C:\\Users\\David\\anaconda3\\lib\\site-packages\\pgmpy\\sampling\\Sampling.py:227: FutureWarning: The frame.append method is deprecated and will be removed from pandas in a future version. Use pandas.concat instead.\n",
      "  sampled = sampled.append(_sampled).iloc[:size, :]\n",
      "C:\\Users\\David\\anaconda3\\lib\\site-packages\\pgmpy\\sampling\\Sampling.py:227: FutureWarning: The frame.append method is deprecated and will be removed from pandas in a future version. Use pandas.concat instead.\n",
      "  sampled = sampled.append(_sampled).iloc[:size, :]\n",
      "C:\\Users\\David\\anaconda3\\lib\\site-packages\\pgmpy\\sampling\\Sampling.py:227: FutureWarning: The frame.append method is deprecated and will be removed from pandas in a future version. Use pandas.concat instead.\n",
      "  sampled = sampled.append(_sampled).iloc[:size, :]\n",
      "C:\\Users\\David\\anaconda3\\lib\\site-packages\\pgmpy\\sampling\\Sampling.py:227: FutureWarning: The frame.append method is deprecated and will be removed from pandas in a future version. Use pandas.concat instead.\n",
      "  sampled = sampled.append(_sampled).iloc[:size, :]\n",
      "C:\\Users\\David\\anaconda3\\lib\\site-packages\\pgmpy\\sampling\\Sampling.py:227: FutureWarning: The frame.append method is deprecated and will be removed from pandas in a future version. Use pandas.concat instead.\n",
      "  sampled = sampled.append(_sampled).iloc[:size, :]\n",
      "C:\\Users\\David\\anaconda3\\lib\\site-packages\\pgmpy\\sampling\\Sampling.py:227: FutureWarning: The frame.append method is deprecated and will be removed from pandas in a future version. Use pandas.concat instead.\n",
      "  sampled = sampled.append(_sampled).iloc[:size, :]\n",
      "C:\\Users\\David\\anaconda3\\lib\\site-packages\\pgmpy\\sampling\\Sampling.py:227: FutureWarning: The frame.append method is deprecated and will be removed from pandas in a future version. Use pandas.concat instead.\n",
      "  sampled = sampled.append(_sampled).iloc[:size, :]\n",
      "C:\\Users\\David\\anaconda3\\lib\\site-packages\\pgmpy\\sampling\\Sampling.py:227: FutureWarning: The frame.append method is deprecated and will be removed from pandas in a future version. Use pandas.concat instead.\n",
      "  sampled = sampled.append(_sampled).iloc[:size, :]\n",
      "C:\\Users\\David\\anaconda3\\lib\\site-packages\\pgmpy\\sampling\\Sampling.py:227: FutureWarning: The frame.append method is deprecated and will be removed from pandas in a future version. Use pandas.concat instead.\n",
      "  sampled = sampled.append(_sampled).iloc[:size, :]\n",
      "C:\\Users\\David\\anaconda3\\lib\\site-packages\\pgmpy\\sampling\\Sampling.py:227: FutureWarning: The frame.append method is deprecated and will be removed from pandas in a future version. Use pandas.concat instead.\n",
      "  sampled = sampled.append(_sampled).iloc[:size, :]\n",
      "C:\\Users\\David\\anaconda3\\lib\\site-packages\\pgmpy\\sampling\\Sampling.py:227: FutureWarning: The frame.append method is deprecated and will be removed from pandas in a future version. Use pandas.concat instead.\n",
      "  sampled = sampled.append(_sampled).iloc[:size, :]\n",
      "C:\\Users\\David\\anaconda3\\lib\\site-packages\\pgmpy\\sampling\\Sampling.py:227: FutureWarning: The frame.append method is deprecated and will be removed from pandas in a future version. Use pandas.concat instead.\n",
      "  sampled = sampled.append(_sampled).iloc[:size, :]\n",
      "C:\\Users\\David\\anaconda3\\lib\\site-packages\\pgmpy\\sampling\\Sampling.py:227: FutureWarning: The frame.append method is deprecated and will be removed from pandas in a future version. Use pandas.concat instead.\n",
      "  sampled = sampled.append(_sampled).iloc[:size, :]\n",
      "C:\\Users\\David\\anaconda3\\lib\\site-packages\\pgmpy\\sampling\\Sampling.py:227: FutureWarning: The frame.append method is deprecated and will be removed from pandas in a future version. Use pandas.concat instead.\n",
      "  sampled = sampled.append(_sampled).iloc[:size, :]\n",
      "C:\\Users\\David\\anaconda3\\lib\\site-packages\\pgmpy\\sampling\\Sampling.py:227: FutureWarning: The frame.append method is deprecated and will be removed from pandas in a future version. Use pandas.concat instead.\n",
      "  sampled = sampled.append(_sampled).iloc[:size, :]\n",
      "C:\\Users\\David\\anaconda3\\lib\\site-packages\\pgmpy\\sampling\\Sampling.py:227: FutureWarning: The frame.append method is deprecated and will be removed from pandas in a future version. Use pandas.concat instead.\n",
      "  sampled = sampled.append(_sampled).iloc[:size, :]\n",
      "C:\\Users\\David\\anaconda3\\lib\\site-packages\\pgmpy\\sampling\\Sampling.py:227: FutureWarning: The frame.append method is deprecated and will be removed from pandas in a future version. Use pandas.concat instead.\n",
      "  sampled = sampled.append(_sampled).iloc[:size, :]\n",
      "C:\\Users\\David\\anaconda3\\lib\\site-packages\\pgmpy\\sampling\\Sampling.py:227: FutureWarning: The frame.append method is deprecated and will be removed from pandas in a future version. Use pandas.concat instead.\n",
      "  sampled = sampled.append(_sampled).iloc[:size, :]\n",
      "C:\\Users\\David\\anaconda3\\lib\\site-packages\\pgmpy\\sampling\\Sampling.py:227: FutureWarning: The frame.append method is deprecated and will be removed from pandas in a future version. Use pandas.concat instead.\n",
      "  sampled = sampled.append(_sampled).iloc[:size, :]\n",
      "C:\\Users\\David\\anaconda3\\lib\\site-packages\\pgmpy\\sampling\\Sampling.py:227: FutureWarning: The frame.append method is deprecated and will be removed from pandas in a future version. Use pandas.concat instead.\n",
      "  sampled = sampled.append(_sampled).iloc[:size, :]\n",
      "C:\\Users\\David\\anaconda3\\lib\\site-packages\\pgmpy\\sampling\\Sampling.py:227: FutureWarning: The frame.append method is deprecated and will be removed from pandas in a future version. Use pandas.concat instead.\n",
      "  sampled = sampled.append(_sampled).iloc[:size, :]\n",
      "C:\\Users\\David\\anaconda3\\lib\\site-packages\\pgmpy\\sampling\\Sampling.py:227: FutureWarning: The frame.append method is deprecated and will be removed from pandas in a future version. Use pandas.concat instead.\n",
      "  sampled = sampled.append(_sampled).iloc[:size, :]\n",
      "C:\\Users\\David\\anaconda3\\lib\\site-packages\\pgmpy\\sampling\\Sampling.py:227: FutureWarning: The frame.append method is deprecated and will be removed from pandas in a future version. Use pandas.concat instead.\n",
      "  sampled = sampled.append(_sampled).iloc[:size, :]\n",
      "C:\\Users\\David\\anaconda3\\lib\\site-packages\\pgmpy\\sampling\\Sampling.py:227: FutureWarning: The frame.append method is deprecated and will be removed from pandas in a future version. Use pandas.concat instead.\n",
      "  sampled = sampled.append(_sampled).iloc[:size, :]\n",
      "C:\\Users\\David\\anaconda3\\lib\\site-packages\\pgmpy\\sampling\\Sampling.py:227: FutureWarning: The frame.append method is deprecated and will be removed from pandas in a future version. Use pandas.concat instead.\n",
      "  sampled = sampled.append(_sampled).iloc[:size, :]\n",
      "C:\\Users\\David\\anaconda3\\lib\\site-packages\\pgmpy\\sampling\\Sampling.py:227: FutureWarning: The frame.append method is deprecated and will be removed from pandas in a future version. Use pandas.concat instead.\n",
      "  sampled = sampled.append(_sampled).iloc[:size, :]\n",
      "C:\\Users\\David\\anaconda3\\lib\\site-packages\\pgmpy\\sampling\\Sampling.py:227: FutureWarning: The frame.append method is deprecated and will be removed from pandas in a future version. Use pandas.concat instead.\n",
      "  sampled = sampled.append(_sampled).iloc[:size, :]\n",
      "C:\\Users\\David\\anaconda3\\lib\\site-packages\\pgmpy\\sampling\\Sampling.py:227: FutureWarning: The frame.append method is deprecated and will be removed from pandas in a future version. Use pandas.concat instead.\n",
      "  sampled = sampled.append(_sampled).iloc[:size, :]\n",
      "C:\\Users\\David\\anaconda3\\lib\\site-packages\\pgmpy\\sampling\\Sampling.py:227: FutureWarning: The frame.append method is deprecated and will be removed from pandas in a future version. Use pandas.concat instead.\n",
      "  sampled = sampled.append(_sampled).iloc[:size, :]\n",
      "C:\\Users\\David\\anaconda3\\lib\\site-packages\\pgmpy\\sampling\\Sampling.py:227: FutureWarning: The frame.append method is deprecated and will be removed from pandas in a future version. Use pandas.concat instead.\n",
      "  sampled = sampled.append(_sampled).iloc[:size, :]\n",
      "C:\\Users\\David\\anaconda3\\lib\\site-packages\\pgmpy\\sampling\\Sampling.py:227: FutureWarning: The frame.append method is deprecated and will be removed from pandas in a future version. Use pandas.concat instead.\n",
      "  sampled = sampled.append(_sampled).iloc[:size, :]\n",
      "C:\\Users\\David\\anaconda3\\lib\\site-packages\\pgmpy\\sampling\\Sampling.py:227: FutureWarning: The frame.append method is deprecated and will be removed from pandas in a future version. Use pandas.concat instead.\n",
      "  sampled = sampled.append(_sampled).iloc[:size, :]\n",
      "C:\\Users\\David\\anaconda3\\lib\\site-packages\\pgmpy\\sampling\\Sampling.py:227: FutureWarning: The frame.append method is deprecated and will be removed from pandas in a future version. Use pandas.concat instead.\n",
      "  sampled = sampled.append(_sampled).iloc[:size, :]\n",
      "C:\\Users\\David\\anaconda3\\lib\\site-packages\\pgmpy\\sampling\\Sampling.py:227: FutureWarning: The frame.append method is deprecated and will be removed from pandas in a future version. Use pandas.concat instead.\n",
      "  sampled = sampled.append(_sampled).iloc[:size, :]\n",
      "C:\\Users\\David\\anaconda3\\lib\\site-packages\\pgmpy\\sampling\\Sampling.py:227: FutureWarning: The frame.append method is deprecated and will be removed from pandas in a future version. Use pandas.concat instead.\n",
      "  sampled = sampled.append(_sampled).iloc[:size, :]\n",
      "C:\\Users\\David\\anaconda3\\lib\\site-packages\\pgmpy\\sampling\\Sampling.py:227: FutureWarning: The frame.append method is deprecated and will be removed from pandas in a future version. Use pandas.concat instead.\n",
      "  sampled = sampled.append(_sampled).iloc[:size, :]\n",
      "C:\\Users\\David\\anaconda3\\lib\\site-packages\\pgmpy\\sampling\\Sampling.py:227: FutureWarning: The frame.append method is deprecated and will be removed from pandas in a future version. Use pandas.concat instead.\n",
      "  sampled = sampled.append(_sampled).iloc[:size, :]\n",
      "C:\\Users\\David\\anaconda3\\lib\\site-packages\\pgmpy\\sampling\\Sampling.py:227: FutureWarning: The frame.append method is deprecated and will be removed from pandas in a future version. Use pandas.concat instead.\n",
      "  sampled = sampled.append(_sampled).iloc[:size, :]\n",
      "C:\\Users\\David\\anaconda3\\lib\\site-packages\\pgmpy\\sampling\\Sampling.py:227: FutureWarning: The frame.append method is deprecated and will be removed from pandas in a future version. Use pandas.concat instead.\n",
      "  sampled = sampled.append(_sampled).iloc[:size, :]\n",
      "C:\\Users\\David\\anaconda3\\lib\\site-packages\\pgmpy\\sampling\\Sampling.py:227: FutureWarning: The frame.append method is deprecated and will be removed from pandas in a future version. Use pandas.concat instead.\n",
      "  sampled = sampled.append(_sampled).iloc[:size, :]\n",
      "C:\\Users\\David\\anaconda3\\lib\\site-packages\\pgmpy\\sampling\\Sampling.py:227: FutureWarning: The frame.append method is deprecated and will be removed from pandas in a future version. Use pandas.concat instead.\n",
      "  sampled = sampled.append(_sampled).iloc[:size, :]\n",
      "C:\\Users\\David\\anaconda3\\lib\\site-packages\\pgmpy\\sampling\\Sampling.py:227: FutureWarning: The frame.append method is deprecated and will be removed from pandas in a future version. Use pandas.concat instead.\n",
      "  sampled = sampled.append(_sampled).iloc[:size, :]\n",
      "C:\\Users\\David\\anaconda3\\lib\\site-packages\\pgmpy\\sampling\\Sampling.py:227: FutureWarning: The frame.append method is deprecated and will be removed from pandas in a future version. Use pandas.concat instead.\n",
      "  sampled = sampled.append(_sampled).iloc[:size, :]\n",
      "C:\\Users\\David\\anaconda3\\lib\\site-packages\\pgmpy\\sampling\\Sampling.py:227: FutureWarning: The frame.append method is deprecated and will be removed from pandas in a future version. Use pandas.concat instead.\n",
      "  sampled = sampled.append(_sampled).iloc[:size, :]\n",
      "C:\\Users\\David\\anaconda3\\lib\\site-packages\\pgmpy\\sampling\\Sampling.py:227: FutureWarning: The frame.append method is deprecated and will be removed from pandas in a future version. Use pandas.concat instead.\n",
      "  sampled = sampled.append(_sampled).iloc[:size, :]\n",
      "C:\\Users\\David\\anaconda3\\lib\\site-packages\\pgmpy\\sampling\\Sampling.py:227: FutureWarning: The frame.append method is deprecated and will be removed from pandas in a future version. Use pandas.concat instead.\n",
      "  sampled = sampled.append(_sampled).iloc[:size, :]\n",
      "C:\\Users\\David\\anaconda3\\lib\\site-packages\\pgmpy\\sampling\\Sampling.py:227: FutureWarning: The frame.append method is deprecated and will be removed from pandas in a future version. Use pandas.concat instead.\n",
      "  sampled = sampled.append(_sampled).iloc[:size, :]\n",
      "C:\\Users\\David\\anaconda3\\lib\\site-packages\\pgmpy\\sampling\\Sampling.py:227: FutureWarning: The frame.append method is deprecated and will be removed from pandas in a future version. Use pandas.concat instead.\n",
      "  sampled = sampled.append(_sampled).iloc[:size, :]\n",
      "C:\\Users\\David\\anaconda3\\lib\\site-packages\\pgmpy\\sampling\\Sampling.py:227: FutureWarning: The frame.append method is deprecated and will be removed from pandas in a future version. Use pandas.concat instead.\n",
      "  sampled = sampled.append(_sampled).iloc[:size, :]\n",
      "C:\\Users\\David\\anaconda3\\lib\\site-packages\\pgmpy\\sampling\\Sampling.py:227: FutureWarning: The frame.append method is deprecated and will be removed from pandas in a future version. Use pandas.concat instead.\n",
      "  sampled = sampled.append(_sampled).iloc[:size, :]\n",
      "C:\\Users\\David\\anaconda3\\lib\\site-packages\\pgmpy\\sampling\\Sampling.py:227: FutureWarning: The frame.append method is deprecated and will be removed from pandas in a future version. Use pandas.concat instead.\n",
      "  sampled = sampled.append(_sampled).iloc[:size, :]\n",
      "C:\\Users\\David\\anaconda3\\lib\\site-packages\\pgmpy\\sampling\\Sampling.py:227: FutureWarning: The frame.append method is deprecated and will be removed from pandas in a future version. Use pandas.concat instead.\n",
      "  sampled = sampled.append(_sampled).iloc[:size, :]\n",
      "C:\\Users\\David\\anaconda3\\lib\\site-packages\\pgmpy\\sampling\\Sampling.py:227: FutureWarning: The frame.append method is deprecated and will be removed from pandas in a future version. Use pandas.concat instead.\n",
      "  sampled = sampled.append(_sampled).iloc[:size, :]\n",
      "C:\\Users\\David\\anaconda3\\lib\\site-packages\\pgmpy\\sampling\\Sampling.py:227: FutureWarning: The frame.append method is deprecated and will be removed from pandas in a future version. Use pandas.concat instead.\n",
      "  sampled = sampled.append(_sampled).iloc[:size, :]\n",
      "C:\\Users\\David\\anaconda3\\lib\\site-packages\\pgmpy\\sampling\\Sampling.py:227: FutureWarning: The frame.append method is deprecated and will be removed from pandas in a future version. Use pandas.concat instead.\n",
      "  sampled = sampled.append(_sampled).iloc[:size, :]\n",
      "C:\\Users\\David\\anaconda3\\lib\\site-packages\\pgmpy\\sampling\\Sampling.py:227: FutureWarning: The frame.append method is deprecated and will be removed from pandas in a future version. Use pandas.concat instead.\n",
      "  sampled = sampled.append(_sampled).iloc[:size, :]\n",
      "C:\\Users\\David\\anaconda3\\lib\\site-packages\\pgmpy\\sampling\\Sampling.py:227: FutureWarning: The frame.append method is deprecated and will be removed from pandas in a future version. Use pandas.concat instead.\n",
      "  sampled = sampled.append(_sampled).iloc[:size, :]\n",
      "C:\\Users\\David\\anaconda3\\lib\\site-packages\\pgmpy\\sampling\\Sampling.py:227: FutureWarning: The frame.append method is deprecated and will be removed from pandas in a future version. Use pandas.concat instead.\n",
      "  sampled = sampled.append(_sampled).iloc[:size, :]\n",
      "C:\\Users\\David\\anaconda3\\lib\\site-packages\\pgmpy\\sampling\\Sampling.py:227: FutureWarning: The frame.append method is deprecated and will be removed from pandas in a future version. Use pandas.concat instead.\n",
      "  sampled = sampled.append(_sampled).iloc[:size, :]\n",
      "C:\\Users\\David\\anaconda3\\lib\\site-packages\\pgmpy\\sampling\\Sampling.py:227: FutureWarning: The frame.append method is deprecated and will be removed from pandas in a future version. Use pandas.concat instead.\n",
      "  sampled = sampled.append(_sampled).iloc[:size, :]\n",
      "C:\\Users\\David\\anaconda3\\lib\\site-packages\\pgmpy\\sampling\\Sampling.py:227: FutureWarning: The frame.append method is deprecated and will be removed from pandas in a future version. Use pandas.concat instead.\n",
      "  sampled = sampled.append(_sampled).iloc[:size, :]\n",
      "C:\\Users\\David\\anaconda3\\lib\\site-packages\\pgmpy\\sampling\\Sampling.py:227: FutureWarning: The frame.append method is deprecated and will be removed from pandas in a future version. Use pandas.concat instead.\n",
      "  sampled = sampled.append(_sampled).iloc[:size, :]\n",
      "C:\\Users\\David\\anaconda3\\lib\\site-packages\\pgmpy\\sampling\\Sampling.py:227: FutureWarning: The frame.append method is deprecated and will be removed from pandas in a future version. Use pandas.concat instead.\n",
      "  sampled = sampled.append(_sampled).iloc[:size, :]\n",
      "C:\\Users\\David\\anaconda3\\lib\\site-packages\\pgmpy\\sampling\\Sampling.py:227: FutureWarning: The frame.append method is deprecated and will be removed from pandas in a future version. Use pandas.concat instead.\n",
      "  sampled = sampled.append(_sampled).iloc[:size, :]\n",
      "C:\\Users\\David\\anaconda3\\lib\\site-packages\\pgmpy\\sampling\\Sampling.py:227: FutureWarning: The frame.append method is deprecated and will be removed from pandas in a future version. Use pandas.concat instead.\n",
      "  sampled = sampled.append(_sampled).iloc[:size, :]\n",
      "C:\\Users\\David\\anaconda3\\lib\\site-packages\\pgmpy\\sampling\\Sampling.py:227: FutureWarning: The frame.append method is deprecated and will be removed from pandas in a future version. Use pandas.concat instead.\n",
      "  sampled = sampled.append(_sampled).iloc[:size, :]\n",
      "C:\\Users\\David\\anaconda3\\lib\\site-packages\\pgmpy\\sampling\\Sampling.py:227: FutureWarning: The frame.append method is deprecated and will be removed from pandas in a future version. Use pandas.concat instead.\n",
      "  sampled = sampled.append(_sampled).iloc[:size, :]\n",
      "C:\\Users\\David\\anaconda3\\lib\\site-packages\\pgmpy\\sampling\\Sampling.py:227: FutureWarning: The frame.append method is deprecated and will be removed from pandas in a future version. Use pandas.concat instead.\n",
      "  sampled = sampled.append(_sampled).iloc[:size, :]\n",
      "C:\\Users\\David\\anaconda3\\lib\\site-packages\\pgmpy\\sampling\\Sampling.py:227: FutureWarning: The frame.append method is deprecated and will be removed from pandas in a future version. Use pandas.concat instead.\n",
      "  sampled = sampled.append(_sampled).iloc[:size, :]\n",
      "C:\\Users\\David\\anaconda3\\lib\\site-packages\\pgmpy\\sampling\\Sampling.py:227: FutureWarning: The frame.append method is deprecated and will be removed from pandas in a future version. Use pandas.concat instead.\n",
      "  sampled = sampled.append(_sampled).iloc[:size, :]\n",
      "C:\\Users\\David\\anaconda3\\lib\\site-packages\\pgmpy\\sampling\\Sampling.py:227: FutureWarning: The frame.append method is deprecated and will be removed from pandas in a future version. Use pandas.concat instead.\n",
      "  sampled = sampled.append(_sampled).iloc[:size, :]\n",
      "C:\\Users\\David\\anaconda3\\lib\\site-packages\\pgmpy\\sampling\\Sampling.py:227: FutureWarning: The frame.append method is deprecated and will be removed from pandas in a future version. Use pandas.concat instead.\n",
      "  sampled = sampled.append(_sampled).iloc[:size, :]\n",
      "C:\\Users\\David\\anaconda3\\lib\\site-packages\\pgmpy\\sampling\\Sampling.py:227: FutureWarning: The frame.append method is deprecated and will be removed from pandas in a future version. Use pandas.concat instead.\n",
      "  sampled = sampled.append(_sampled).iloc[:size, :]\n",
      "C:\\Users\\David\\anaconda3\\lib\\site-packages\\pgmpy\\sampling\\Sampling.py:227: FutureWarning: The frame.append method is deprecated and will be removed from pandas in a future version. Use pandas.concat instead.\n",
      "  sampled = sampled.append(_sampled).iloc[:size, :]\n",
      "C:\\Users\\David\\anaconda3\\lib\\site-packages\\pgmpy\\sampling\\Sampling.py:227: FutureWarning: The frame.append method is deprecated and will be removed from pandas in a future version. Use pandas.concat instead.\n",
      "  sampled = sampled.append(_sampled).iloc[:size, :]\n",
      "C:\\Users\\David\\anaconda3\\lib\\site-packages\\pgmpy\\sampling\\Sampling.py:227: FutureWarning: The frame.append method is deprecated and will be removed from pandas in a future version. Use pandas.concat instead.\n",
      "  sampled = sampled.append(_sampled).iloc[:size, :]\n",
      "C:\\Users\\David\\anaconda3\\lib\\site-packages\\pgmpy\\sampling\\Sampling.py:227: FutureWarning: The frame.append method is deprecated and will be removed from pandas in a future version. Use pandas.concat instead.\n",
      "  sampled = sampled.append(_sampled).iloc[:size, :]\n",
      "C:\\Users\\David\\anaconda3\\lib\\site-packages\\pgmpy\\sampling\\Sampling.py:227: FutureWarning: The frame.append method is deprecated and will be removed from pandas in a future version. Use pandas.concat instead.\n",
      "  sampled = sampled.append(_sampled).iloc[:size, :]\n",
      "C:\\Users\\David\\anaconda3\\lib\\site-packages\\pgmpy\\sampling\\Sampling.py:227: FutureWarning: The frame.append method is deprecated and will be removed from pandas in a future version. Use pandas.concat instead.\n",
      "  sampled = sampled.append(_sampled).iloc[:size, :]\n",
      "C:\\Users\\David\\anaconda3\\lib\\site-packages\\pgmpy\\sampling\\Sampling.py:227: FutureWarning: The frame.append method is deprecated and will be removed from pandas in a future version. Use pandas.concat instead.\n",
      "  sampled = sampled.append(_sampled).iloc[:size, :]\n",
      "C:\\Users\\David\\anaconda3\\lib\\site-packages\\pgmpy\\sampling\\Sampling.py:227: FutureWarning: The frame.append method is deprecated and will be removed from pandas in a future version. Use pandas.concat instead.\n",
      "  sampled = sampled.append(_sampled).iloc[:size, :]\n",
      "C:\\Users\\David\\anaconda3\\lib\\site-packages\\pgmpy\\sampling\\Sampling.py:227: FutureWarning: The frame.append method is deprecated and will be removed from pandas in a future version. Use pandas.concat instead.\n",
      "  sampled = sampled.append(_sampled).iloc[:size, :]\n",
      "C:\\Users\\David\\anaconda3\\lib\\site-packages\\pgmpy\\sampling\\Sampling.py:227: FutureWarning: The frame.append method is deprecated and will be removed from pandas in a future version. Use pandas.concat instead.\n",
      "  sampled = sampled.append(_sampled).iloc[:size, :]\n",
      "C:\\Users\\David\\anaconda3\\lib\\site-packages\\pgmpy\\sampling\\Sampling.py:227: FutureWarning: The frame.append method is deprecated and will be removed from pandas in a future version. Use pandas.concat instead.\n",
      "  sampled = sampled.append(_sampled).iloc[:size, :]\n",
      "C:\\Users\\David\\anaconda3\\lib\\site-packages\\pgmpy\\sampling\\Sampling.py:227: FutureWarning: The frame.append method is deprecated and will be removed from pandas in a future version. Use pandas.concat instead.\n",
      "  sampled = sampled.append(_sampled).iloc[:size, :]\n",
      "C:\\Users\\David\\anaconda3\\lib\\site-packages\\pgmpy\\sampling\\Sampling.py:227: FutureWarning: The frame.append method is deprecated and will be removed from pandas in a future version. Use pandas.concat instead.\n",
      "  sampled = sampled.append(_sampled).iloc[:size, :]\n",
      "C:\\Users\\David\\anaconda3\\lib\\site-packages\\pgmpy\\sampling\\Sampling.py:227: FutureWarning: The frame.append method is deprecated and will be removed from pandas in a future version. Use pandas.concat instead.\n",
      "  sampled = sampled.append(_sampled).iloc[:size, :]\n",
      "C:\\Users\\David\\anaconda3\\lib\\site-packages\\pgmpy\\sampling\\Sampling.py:227: FutureWarning: The frame.append method is deprecated and will be removed from pandas in a future version. Use pandas.concat instead.\n",
      "  sampled = sampled.append(_sampled).iloc[:size, :]\n",
      "C:\\Users\\David\\anaconda3\\lib\\site-packages\\pgmpy\\sampling\\Sampling.py:227: FutureWarning: The frame.append method is deprecated and will be removed from pandas in a future version. Use pandas.concat instead.\n",
      "  sampled = sampled.append(_sampled).iloc[:size, :]\n",
      "C:\\Users\\David\\anaconda3\\lib\\site-packages\\pgmpy\\sampling\\Sampling.py:227: FutureWarning: The frame.append method is deprecated and will be removed from pandas in a future version. Use pandas.concat instead.\n",
      "  sampled = sampled.append(_sampled).iloc[:size, :]\n",
      "C:\\Users\\David\\anaconda3\\lib\\site-packages\\pgmpy\\sampling\\Sampling.py:227: FutureWarning: The frame.append method is deprecated and will be removed from pandas in a future version. Use pandas.concat instead.\n",
      "  sampled = sampled.append(_sampled).iloc[:size, :]\n",
      "C:\\Users\\David\\anaconda3\\lib\\site-packages\\pgmpy\\sampling\\Sampling.py:227: FutureWarning: The frame.append method is deprecated and will be removed from pandas in a future version. Use pandas.concat instead.\n",
      "  sampled = sampled.append(_sampled).iloc[:size, :]\n",
      "C:\\Users\\David\\anaconda3\\lib\\site-packages\\pgmpy\\sampling\\Sampling.py:227: FutureWarning: The frame.append method is deprecated and will be removed from pandas in a future version. Use pandas.concat instead.\n",
      "  sampled = sampled.append(_sampled).iloc[:size, :]\n",
      "C:\\Users\\David\\anaconda3\\lib\\site-packages\\pgmpy\\sampling\\Sampling.py:227: FutureWarning: The frame.append method is deprecated and will be removed from pandas in a future version. Use pandas.concat instead.\n",
      "  sampled = sampled.append(_sampled).iloc[:size, :]\n",
      "C:\\Users\\David\\anaconda3\\lib\\site-packages\\pgmpy\\sampling\\Sampling.py:227: FutureWarning: The frame.append method is deprecated and will be removed from pandas in a future version. Use pandas.concat instead.\n",
      "  sampled = sampled.append(_sampled).iloc[:size, :]\n",
      "C:\\Users\\David\\anaconda3\\lib\\site-packages\\pgmpy\\sampling\\Sampling.py:227: FutureWarning: The frame.append method is deprecated and will be removed from pandas in a future version. Use pandas.concat instead.\n",
      "  sampled = sampled.append(_sampled).iloc[:size, :]\n",
      "C:\\Users\\David\\anaconda3\\lib\\site-packages\\pgmpy\\sampling\\Sampling.py:227: FutureWarning: The frame.append method is deprecated and will be removed from pandas in a future version. Use pandas.concat instead.\n",
      "  sampled = sampled.append(_sampled).iloc[:size, :]\n",
      "C:\\Users\\David\\anaconda3\\lib\\site-packages\\pgmpy\\sampling\\Sampling.py:227: FutureWarning: The frame.append method is deprecated and will be removed from pandas in a future version. Use pandas.concat instead.\n",
      "  sampled = sampled.append(_sampled).iloc[:size, :]\n",
      "C:\\Users\\David\\anaconda3\\lib\\site-packages\\pgmpy\\sampling\\Sampling.py:227: FutureWarning: The frame.append method is deprecated and will be removed from pandas in a future version. Use pandas.concat instead.\n",
      "  sampled = sampled.append(_sampled).iloc[:size, :]\n",
      "C:\\Users\\David\\anaconda3\\lib\\site-packages\\pgmpy\\sampling\\Sampling.py:227: FutureWarning: The frame.append method is deprecated and will be removed from pandas in a future version. Use pandas.concat instead.\n",
      "  sampled = sampled.append(_sampled).iloc[:size, :]\n",
      "C:\\Users\\David\\anaconda3\\lib\\site-packages\\pgmpy\\sampling\\Sampling.py:227: FutureWarning: The frame.append method is deprecated and will be removed from pandas in a future version. Use pandas.concat instead.\n",
      "  sampled = sampled.append(_sampled).iloc[:size, :]\n",
      "C:\\Users\\David\\anaconda3\\lib\\site-packages\\pgmpy\\sampling\\Sampling.py:227: FutureWarning: The frame.append method is deprecated and will be removed from pandas in a future version. Use pandas.concat instead.\n",
      "  sampled = sampled.append(_sampled).iloc[:size, :]\n",
      "C:\\Users\\David\\anaconda3\\lib\\site-packages\\pgmpy\\sampling\\Sampling.py:227: FutureWarning: The frame.append method is deprecated and will be removed from pandas in a future version. Use pandas.concat instead.\n",
      "  sampled = sampled.append(_sampled).iloc[:size, :]\n",
      "C:\\Users\\David\\anaconda3\\lib\\site-packages\\pgmpy\\sampling\\Sampling.py:227: FutureWarning: The frame.append method is deprecated and will be removed from pandas in a future version. Use pandas.concat instead.\n",
      "  sampled = sampled.append(_sampled).iloc[:size, :]\n",
      "C:\\Users\\David\\anaconda3\\lib\\site-packages\\pgmpy\\sampling\\Sampling.py:227: FutureWarning: The frame.append method is deprecated and will be removed from pandas in a future version. Use pandas.concat instead.\n",
      "  sampled = sampled.append(_sampled).iloc[:size, :]\n",
      "C:\\Users\\David\\anaconda3\\lib\\site-packages\\pgmpy\\sampling\\Sampling.py:227: FutureWarning: The frame.append method is deprecated and will be removed from pandas in a future version. Use pandas.concat instead.\n",
      "  sampled = sampled.append(_sampled).iloc[:size, :]\n",
      "C:\\Users\\David\\anaconda3\\lib\\site-packages\\pgmpy\\sampling\\Sampling.py:227: FutureWarning: The frame.append method is deprecated and will be removed from pandas in a future version. Use pandas.concat instead.\n",
      "  sampled = sampled.append(_sampled).iloc[:size, :]\n",
      "C:\\Users\\David\\anaconda3\\lib\\site-packages\\pgmpy\\sampling\\Sampling.py:227: FutureWarning: The frame.append method is deprecated and will be removed from pandas in a future version. Use pandas.concat instead.\n",
      "  sampled = sampled.append(_sampled).iloc[:size, :]\n",
      "C:\\Users\\David\\anaconda3\\lib\\site-packages\\pgmpy\\sampling\\Sampling.py:227: FutureWarning: The frame.append method is deprecated and will be removed from pandas in a future version. Use pandas.concat instead.\n",
      "  sampled = sampled.append(_sampled).iloc[:size, :]\n",
      "C:\\Users\\David\\anaconda3\\lib\\site-packages\\pgmpy\\sampling\\Sampling.py:227: FutureWarning: The frame.append method is deprecated and will be removed from pandas in a future version. Use pandas.concat instead.\n",
      "  sampled = sampled.append(_sampled).iloc[:size, :]\n",
      "C:\\Users\\David\\anaconda3\\lib\\site-packages\\pgmpy\\sampling\\Sampling.py:227: FutureWarning: The frame.append method is deprecated and will be removed from pandas in a future version. Use pandas.concat instead.\n",
      "  sampled = sampled.append(_sampled).iloc[:size, :]\n",
      "C:\\Users\\David\\anaconda3\\lib\\site-packages\\pgmpy\\sampling\\Sampling.py:227: FutureWarning: The frame.append method is deprecated and will be removed from pandas in a future version. Use pandas.concat instead.\n",
      "  sampled = sampled.append(_sampled).iloc[:size, :]\n",
      "C:\\Users\\David\\anaconda3\\lib\\site-packages\\pgmpy\\sampling\\Sampling.py:227: FutureWarning: The frame.append method is deprecated and will be removed from pandas in a future version. Use pandas.concat instead.\n",
      "  sampled = sampled.append(_sampled).iloc[:size, :]\n",
      "C:\\Users\\David\\anaconda3\\lib\\site-packages\\pgmpy\\sampling\\Sampling.py:227: FutureWarning: The frame.append method is deprecated and will be removed from pandas in a future version. Use pandas.concat instead.\n",
      "  sampled = sampled.append(_sampled).iloc[:size, :]\n",
      "C:\\Users\\David\\anaconda3\\lib\\site-packages\\pgmpy\\sampling\\Sampling.py:227: FutureWarning: The frame.append method is deprecated and will be removed from pandas in a future version. Use pandas.concat instead.\n",
      "  sampled = sampled.append(_sampled).iloc[:size, :]\n",
      "C:\\Users\\David\\anaconda3\\lib\\site-packages\\pgmpy\\sampling\\Sampling.py:227: FutureWarning: The frame.append method is deprecated and will be removed from pandas in a future version. Use pandas.concat instead.\n",
      "  sampled = sampled.append(_sampled).iloc[:size, :]\n",
      "C:\\Users\\David\\anaconda3\\lib\\site-packages\\pgmpy\\sampling\\Sampling.py:227: FutureWarning: The frame.append method is deprecated and will be removed from pandas in a future version. Use pandas.concat instead.\n",
      "  sampled = sampled.append(_sampled).iloc[:size, :]\n",
      "C:\\Users\\David\\anaconda3\\lib\\site-packages\\pgmpy\\sampling\\Sampling.py:227: FutureWarning: The frame.append method is deprecated and will be removed from pandas in a future version. Use pandas.concat instead.\n",
      "  sampled = sampled.append(_sampled).iloc[:size, :]\n",
      "C:\\Users\\David\\anaconda3\\lib\\site-packages\\pgmpy\\sampling\\Sampling.py:227: FutureWarning: The frame.append method is deprecated and will be removed from pandas in a future version. Use pandas.concat instead.\n",
      "  sampled = sampled.append(_sampled).iloc[:size, :]\n",
      "C:\\Users\\David\\anaconda3\\lib\\site-packages\\pgmpy\\sampling\\Sampling.py:227: FutureWarning: The frame.append method is deprecated and will be removed from pandas in a future version. Use pandas.concat instead.\n",
      "  sampled = sampled.append(_sampled).iloc[:size, :]\n",
      "C:\\Users\\David\\anaconda3\\lib\\site-packages\\pgmpy\\sampling\\Sampling.py:227: FutureWarning: The frame.append method is deprecated and will be removed from pandas in a future version. Use pandas.concat instead.\n",
      "  sampled = sampled.append(_sampled).iloc[:size, :]\n",
      "C:\\Users\\David\\anaconda3\\lib\\site-packages\\pgmpy\\sampling\\Sampling.py:227: FutureWarning: The frame.append method is deprecated and will be removed from pandas in a future version. Use pandas.concat instead.\n",
      "  sampled = sampled.append(_sampled).iloc[:size, :]\n",
      "C:\\Users\\David\\anaconda3\\lib\\site-packages\\pgmpy\\sampling\\Sampling.py:227: FutureWarning: The frame.append method is deprecated and will be removed from pandas in a future version. Use pandas.concat instead.\n",
      "  sampled = sampled.append(_sampled).iloc[:size, :]\n",
      "C:\\Users\\David\\anaconda3\\lib\\site-packages\\pgmpy\\sampling\\Sampling.py:227: FutureWarning: The frame.append method is deprecated and will be removed from pandas in a future version. Use pandas.concat instead.\n",
      "  sampled = sampled.append(_sampled).iloc[:size, :]\n",
      "C:\\Users\\David\\anaconda3\\lib\\site-packages\\pgmpy\\sampling\\Sampling.py:227: FutureWarning: The frame.append method is deprecated and will be removed from pandas in a future version. Use pandas.concat instead.\n",
      "  sampled = sampled.append(_sampled).iloc[:size, :]\n",
      "C:\\Users\\David\\anaconda3\\lib\\site-packages\\pgmpy\\sampling\\Sampling.py:227: FutureWarning: The frame.append method is deprecated and will be removed from pandas in a future version. Use pandas.concat instead.\n",
      "  sampled = sampled.append(_sampled).iloc[:size, :]\n",
      "C:\\Users\\David\\anaconda3\\lib\\site-packages\\pgmpy\\sampling\\Sampling.py:227: FutureWarning: The frame.append method is deprecated and will be removed from pandas in a future version. Use pandas.concat instead.\n",
      "  sampled = sampled.append(_sampled).iloc[:size, :]\n",
      "C:\\Users\\David\\anaconda3\\lib\\site-packages\\pgmpy\\sampling\\Sampling.py:227: FutureWarning: The frame.append method is deprecated and will be removed from pandas in a future version. Use pandas.concat instead.\n",
      "  sampled = sampled.append(_sampled).iloc[:size, :]\n",
      "C:\\Users\\David\\anaconda3\\lib\\site-packages\\pgmpy\\sampling\\Sampling.py:227: FutureWarning: The frame.append method is deprecated and will be removed from pandas in a future version. Use pandas.concat instead.\n",
      "  sampled = sampled.append(_sampled).iloc[:size, :]\n",
      "C:\\Users\\David\\anaconda3\\lib\\site-packages\\pgmpy\\sampling\\Sampling.py:227: FutureWarning: The frame.append method is deprecated and will be removed from pandas in a future version. Use pandas.concat instead.\n",
      "  sampled = sampled.append(_sampled).iloc[:size, :]\n",
      "C:\\Users\\David\\anaconda3\\lib\\site-packages\\pgmpy\\sampling\\Sampling.py:227: FutureWarning: The frame.append method is deprecated and will be removed from pandas in a future version. Use pandas.concat instead.\n",
      "  sampled = sampled.append(_sampled).iloc[:size, :]\n",
      "C:\\Users\\David\\anaconda3\\lib\\site-packages\\pgmpy\\sampling\\Sampling.py:227: FutureWarning: The frame.append method is deprecated and will be removed from pandas in a future version. Use pandas.concat instead.\n",
      "  sampled = sampled.append(_sampled).iloc[:size, :]\n",
      "C:\\Users\\David\\anaconda3\\lib\\site-packages\\pgmpy\\sampling\\Sampling.py:227: FutureWarning: The frame.append method is deprecated and will be removed from pandas in a future version. Use pandas.concat instead.\n",
      "  sampled = sampled.append(_sampled).iloc[:size, :]\n",
      "C:\\Users\\David\\anaconda3\\lib\\site-packages\\pgmpy\\sampling\\Sampling.py:227: FutureWarning: The frame.append method is deprecated and will be removed from pandas in a future version. Use pandas.concat instead.\n",
      "  sampled = sampled.append(_sampled).iloc[:size, :]\n",
      "C:\\Users\\David\\anaconda3\\lib\\site-packages\\pgmpy\\sampling\\Sampling.py:227: FutureWarning: The frame.append method is deprecated and will be removed from pandas in a future version. Use pandas.concat instead.\n",
      "  sampled = sampled.append(_sampled).iloc[:size, :]\n",
      "C:\\Users\\David\\anaconda3\\lib\\site-packages\\pgmpy\\sampling\\Sampling.py:227: FutureWarning: The frame.append method is deprecated and will be removed from pandas in a future version. Use pandas.concat instead.\n",
      "  sampled = sampled.append(_sampled).iloc[:size, :]\n",
      "C:\\Users\\David\\anaconda3\\lib\\site-packages\\pgmpy\\sampling\\Sampling.py:227: FutureWarning: The frame.append method is deprecated and will be removed from pandas in a future version. Use pandas.concat instead.\n",
      "  sampled = sampled.append(_sampled).iloc[:size, :]\n",
      "C:\\Users\\David\\anaconda3\\lib\\site-packages\\pgmpy\\sampling\\Sampling.py:227: FutureWarning: The frame.append method is deprecated and will be removed from pandas in a future version. Use pandas.concat instead.\n",
      "  sampled = sampled.append(_sampled).iloc[:size, :]\n",
      "C:\\Users\\David\\anaconda3\\lib\\site-packages\\pgmpy\\sampling\\Sampling.py:227: FutureWarning: The frame.append method is deprecated and will be removed from pandas in a future version. Use pandas.concat instead.\n",
      "  sampled = sampled.append(_sampled).iloc[:size, :]\n",
      "C:\\Users\\David\\anaconda3\\lib\\site-packages\\pgmpy\\sampling\\Sampling.py:227: FutureWarning: The frame.append method is deprecated and will be removed from pandas in a future version. Use pandas.concat instead.\n",
      "  sampled = sampled.append(_sampled).iloc[:size, :]\n",
      "C:\\Users\\David\\anaconda3\\lib\\site-packages\\pgmpy\\sampling\\Sampling.py:227: FutureWarning: The frame.append method is deprecated and will be removed from pandas in a future version. Use pandas.concat instead.\n",
      "  sampled = sampled.append(_sampled).iloc[:size, :]\n",
      "C:\\Users\\David\\anaconda3\\lib\\site-packages\\pgmpy\\sampling\\Sampling.py:227: FutureWarning: The frame.append method is deprecated and will be removed from pandas in a future version. Use pandas.concat instead.\n",
      "  sampled = sampled.append(_sampled).iloc[:size, :]\n",
      "C:\\Users\\David\\anaconda3\\lib\\site-packages\\pgmpy\\sampling\\Sampling.py:227: FutureWarning: The frame.append method is deprecated and will be removed from pandas in a future version. Use pandas.concat instead.\n",
      "  sampled = sampled.append(_sampled).iloc[:size, :]\n",
      "C:\\Users\\David\\anaconda3\\lib\\site-packages\\pgmpy\\sampling\\Sampling.py:227: FutureWarning: The frame.append method is deprecated and will be removed from pandas in a future version. Use pandas.concat instead.\n",
      "  sampled = sampled.append(_sampled).iloc[:size, :]\n",
      "C:\\Users\\David\\anaconda3\\lib\\site-packages\\pgmpy\\sampling\\Sampling.py:227: FutureWarning: The frame.append method is deprecated and will be removed from pandas in a future version. Use pandas.concat instead.\n",
      "  sampled = sampled.append(_sampled).iloc[:size, :]\n",
      "C:\\Users\\David\\anaconda3\\lib\\site-packages\\pgmpy\\sampling\\Sampling.py:227: FutureWarning: The frame.append method is deprecated and will be removed from pandas in a future version. Use pandas.concat instead.\n",
      "  sampled = sampled.append(_sampled).iloc[:size, :]\n",
      "C:\\Users\\David\\anaconda3\\lib\\site-packages\\pgmpy\\sampling\\Sampling.py:227: FutureWarning: The frame.append method is deprecated and will be removed from pandas in a future version. Use pandas.concat instead.\n",
      "  sampled = sampled.append(_sampled).iloc[:size, :]\n",
      "C:\\Users\\David\\anaconda3\\lib\\site-packages\\pgmpy\\sampling\\Sampling.py:227: FutureWarning: The frame.append method is deprecated and will be removed from pandas in a future version. Use pandas.concat instead.\n",
      "  sampled = sampled.append(_sampled).iloc[:size, :]\n",
      "C:\\Users\\David\\anaconda3\\lib\\site-packages\\pgmpy\\sampling\\Sampling.py:227: FutureWarning: The frame.append method is deprecated and will be removed from pandas in a future version. Use pandas.concat instead.\n",
      "  sampled = sampled.append(_sampled).iloc[:size, :]\n",
      "C:\\Users\\David\\anaconda3\\lib\\site-packages\\pgmpy\\sampling\\Sampling.py:227: FutureWarning: The frame.append method is deprecated and will be removed from pandas in a future version. Use pandas.concat instead.\n",
      "  sampled = sampled.append(_sampled).iloc[:size, :]\n",
      "C:\\Users\\David\\anaconda3\\lib\\site-packages\\pgmpy\\sampling\\Sampling.py:227: FutureWarning: The frame.append method is deprecated and will be removed from pandas in a future version. Use pandas.concat instead.\n",
      "  sampled = sampled.append(_sampled).iloc[:size, :]\n",
      "C:\\Users\\David\\anaconda3\\lib\\site-packages\\pgmpy\\sampling\\Sampling.py:227: FutureWarning: The frame.append method is deprecated and will be removed from pandas in a future version. Use pandas.concat instead.\n",
      "  sampled = sampled.append(_sampled).iloc[:size, :]\n",
      "C:\\Users\\David\\anaconda3\\lib\\site-packages\\pgmpy\\sampling\\Sampling.py:227: FutureWarning: The frame.append method is deprecated and will be removed from pandas in a future version. Use pandas.concat instead.\n",
      "  sampled = sampled.append(_sampled).iloc[:size, :]\n",
      "C:\\Users\\David\\anaconda3\\lib\\site-packages\\pgmpy\\sampling\\Sampling.py:227: FutureWarning: The frame.append method is deprecated and will be removed from pandas in a future version. Use pandas.concat instead.\n",
      "  sampled = sampled.append(_sampled).iloc[:size, :]\n",
      "C:\\Users\\David\\anaconda3\\lib\\site-packages\\pgmpy\\sampling\\Sampling.py:227: FutureWarning: The frame.append method is deprecated and will be removed from pandas in a future version. Use pandas.concat instead.\n",
      "  sampled = sampled.append(_sampled).iloc[:size, :]\n",
      "C:\\Users\\David\\anaconda3\\lib\\site-packages\\pgmpy\\sampling\\Sampling.py:227: FutureWarning: The frame.append method is deprecated and will be removed from pandas in a future version. Use pandas.concat instead.\n",
      "  sampled = sampled.append(_sampled).iloc[:size, :]\n",
      "C:\\Users\\David\\anaconda3\\lib\\site-packages\\pgmpy\\sampling\\Sampling.py:227: FutureWarning: The frame.append method is deprecated and will be removed from pandas in a future version. Use pandas.concat instead.\n",
      "  sampled = sampled.append(_sampled).iloc[:size, :]\n",
      "C:\\Users\\David\\anaconda3\\lib\\site-packages\\pgmpy\\sampling\\Sampling.py:227: FutureWarning: The frame.append method is deprecated and will be removed from pandas in a future version. Use pandas.concat instead.\n",
      "  sampled = sampled.append(_sampled).iloc[:size, :]\n",
      "C:\\Users\\David\\anaconda3\\lib\\site-packages\\pgmpy\\sampling\\Sampling.py:227: FutureWarning: The frame.append method is deprecated and will be removed from pandas in a future version. Use pandas.concat instead.\n",
      "  sampled = sampled.append(_sampled).iloc[:size, :]\n",
      "C:\\Users\\David\\anaconda3\\lib\\site-packages\\pgmpy\\sampling\\Sampling.py:227: FutureWarning: The frame.append method is deprecated and will be removed from pandas in a future version. Use pandas.concat instead.\n",
      "  sampled = sampled.append(_sampled).iloc[:size, :]\n",
      "C:\\Users\\David\\anaconda3\\lib\\site-packages\\pgmpy\\sampling\\Sampling.py:227: FutureWarning: The frame.append method is deprecated and will be removed from pandas in a future version. Use pandas.concat instead.\n",
      "  sampled = sampled.append(_sampled).iloc[:size, :]\n",
      "C:\\Users\\David\\anaconda3\\lib\\site-packages\\pgmpy\\sampling\\Sampling.py:227: FutureWarning: The frame.append method is deprecated and will be removed from pandas in a future version. Use pandas.concat instead.\n",
      "  sampled = sampled.append(_sampled).iloc[:size, :]\n",
      "C:\\Users\\David\\anaconda3\\lib\\site-packages\\pgmpy\\sampling\\Sampling.py:227: FutureWarning: The frame.append method is deprecated and will be removed from pandas in a future version. Use pandas.concat instead.\n",
      "  sampled = sampled.append(_sampled).iloc[:size, :]\n",
      "C:\\Users\\David\\anaconda3\\lib\\site-packages\\pgmpy\\sampling\\Sampling.py:227: FutureWarning: The frame.append method is deprecated and will be removed from pandas in a future version. Use pandas.concat instead.\n",
      "  sampled = sampled.append(_sampled).iloc[:size, :]\n",
      "C:\\Users\\David\\anaconda3\\lib\\site-packages\\pgmpy\\sampling\\Sampling.py:227: FutureWarning: The frame.append method is deprecated and will be removed from pandas in a future version. Use pandas.concat instead.\n",
      "  sampled = sampled.append(_sampled).iloc[:size, :]\n",
      "C:\\Users\\David\\anaconda3\\lib\\site-packages\\pgmpy\\sampling\\Sampling.py:227: FutureWarning: The frame.append method is deprecated and will be removed from pandas in a future version. Use pandas.concat instead.\n",
      "  sampled = sampled.append(_sampled).iloc[:size, :]\n",
      "C:\\Users\\David\\anaconda3\\lib\\site-packages\\pgmpy\\sampling\\Sampling.py:227: FutureWarning: The frame.append method is deprecated and will be removed from pandas in a future version. Use pandas.concat instead.\n",
      "  sampled = sampled.append(_sampled).iloc[:size, :]\n",
      "C:\\Users\\David\\anaconda3\\lib\\site-packages\\pgmpy\\sampling\\Sampling.py:227: FutureWarning: The frame.append method is deprecated and will be removed from pandas in a future version. Use pandas.concat instead.\n",
      "  sampled = sampled.append(_sampled).iloc[:size, :]\n",
      "C:\\Users\\David\\anaconda3\\lib\\site-packages\\pgmpy\\sampling\\Sampling.py:227: FutureWarning: The frame.append method is deprecated and will be removed from pandas in a future version. Use pandas.concat instead.\n",
      "  sampled = sampled.append(_sampled).iloc[:size, :]\n",
      "C:\\Users\\David\\anaconda3\\lib\\site-packages\\pgmpy\\sampling\\Sampling.py:227: FutureWarning: The frame.append method is deprecated and will be removed from pandas in a future version. Use pandas.concat instead.\n",
      "  sampled = sampled.append(_sampled).iloc[:size, :]\n",
      "C:\\Users\\David\\anaconda3\\lib\\site-packages\\pgmpy\\sampling\\Sampling.py:227: FutureWarning: The frame.append method is deprecated and will be removed from pandas in a future version. Use pandas.concat instead.\n",
      "  sampled = sampled.append(_sampled).iloc[:size, :]\n",
      "C:\\Users\\David\\anaconda3\\lib\\site-packages\\pgmpy\\sampling\\Sampling.py:227: FutureWarning: The frame.append method is deprecated and will be removed from pandas in a future version. Use pandas.concat instead.\n",
      "  sampled = sampled.append(_sampled).iloc[:size, :]\n",
      "C:\\Users\\David\\anaconda3\\lib\\site-packages\\pgmpy\\sampling\\Sampling.py:227: FutureWarning: The frame.append method is deprecated and will be removed from pandas in a future version. Use pandas.concat instead.\n",
      "  sampled = sampled.append(_sampled).iloc[:size, :]\n",
      "C:\\Users\\David\\anaconda3\\lib\\site-packages\\pgmpy\\sampling\\Sampling.py:227: FutureWarning: The frame.append method is deprecated and will be removed from pandas in a future version. Use pandas.concat instead.\n",
      "  sampled = sampled.append(_sampled).iloc[:size, :]\n",
      "C:\\Users\\David\\anaconda3\\lib\\site-packages\\pgmpy\\sampling\\Sampling.py:227: FutureWarning: The frame.append method is deprecated and will be removed from pandas in a future version. Use pandas.concat instead.\n",
      "  sampled = sampled.append(_sampled).iloc[:size, :]\n",
      "C:\\Users\\David\\anaconda3\\lib\\site-packages\\pgmpy\\sampling\\Sampling.py:227: FutureWarning: The frame.append method is deprecated and will be removed from pandas in a future version. Use pandas.concat instead.\n",
      "  sampled = sampled.append(_sampled).iloc[:size, :]\n",
      "C:\\Users\\David\\anaconda3\\lib\\site-packages\\pgmpy\\sampling\\Sampling.py:227: FutureWarning: The frame.append method is deprecated and will be removed from pandas in a future version. Use pandas.concat instead.\n",
      "  sampled = sampled.append(_sampled).iloc[:size, :]\n",
      "C:\\Users\\David\\anaconda3\\lib\\site-packages\\pgmpy\\sampling\\Sampling.py:227: FutureWarning: The frame.append method is deprecated and will be removed from pandas in a future version. Use pandas.concat instead.\n",
      "  sampled = sampled.append(_sampled).iloc[:size, :]\n",
      "C:\\Users\\David\\anaconda3\\lib\\site-packages\\pgmpy\\sampling\\Sampling.py:227: FutureWarning: The frame.append method is deprecated and will be removed from pandas in a future version. Use pandas.concat instead.\n",
      "  sampled = sampled.append(_sampled).iloc[:size, :]\n",
      "C:\\Users\\David\\anaconda3\\lib\\site-packages\\pgmpy\\sampling\\Sampling.py:227: FutureWarning: The frame.append method is deprecated and will be removed from pandas in a future version. Use pandas.concat instead.\n",
      "  sampled = sampled.append(_sampled).iloc[:size, :]\n",
      "C:\\Users\\David\\anaconda3\\lib\\site-packages\\pgmpy\\sampling\\Sampling.py:227: FutureWarning: The frame.append method is deprecated and will be removed from pandas in a future version. Use pandas.concat instead.\n",
      "  sampled = sampled.append(_sampled).iloc[:size, :]\n",
      "C:\\Users\\David\\anaconda3\\lib\\site-packages\\pgmpy\\sampling\\Sampling.py:227: FutureWarning: The frame.append method is deprecated and will be removed from pandas in a future version. Use pandas.concat instead.\n",
      "  sampled = sampled.append(_sampled).iloc[:size, :]\n",
      "C:\\Users\\David\\anaconda3\\lib\\site-packages\\pgmpy\\sampling\\Sampling.py:227: FutureWarning: The frame.append method is deprecated and will be removed from pandas in a future version. Use pandas.concat instead.\n",
      "  sampled = sampled.append(_sampled).iloc[:size, :]\n",
      "C:\\Users\\David\\anaconda3\\lib\\site-packages\\pgmpy\\sampling\\Sampling.py:227: FutureWarning: The frame.append method is deprecated and will be removed from pandas in a future version. Use pandas.concat instead.\n",
      "  sampled = sampled.append(_sampled).iloc[:size, :]\n",
      "C:\\Users\\David\\anaconda3\\lib\\site-packages\\pgmpy\\sampling\\Sampling.py:227: FutureWarning: The frame.append method is deprecated and will be removed from pandas in a future version. Use pandas.concat instead.\n",
      "  sampled = sampled.append(_sampled).iloc[:size, :]\n",
      "C:\\Users\\David\\anaconda3\\lib\\site-packages\\pgmpy\\sampling\\Sampling.py:227: FutureWarning: The frame.append method is deprecated and will be removed from pandas in a future version. Use pandas.concat instead.\n",
      "  sampled = sampled.append(_sampled).iloc[:size, :]\n",
      "C:\\Users\\David\\anaconda3\\lib\\site-packages\\pgmpy\\sampling\\Sampling.py:227: FutureWarning: The frame.append method is deprecated and will be removed from pandas in a future version. Use pandas.concat instead.\n",
      "  sampled = sampled.append(_sampled).iloc[:size, :]\n",
      "C:\\Users\\David\\anaconda3\\lib\\site-packages\\pgmpy\\sampling\\Sampling.py:227: FutureWarning: The frame.append method is deprecated and will be removed from pandas in a future version. Use pandas.concat instead.\n",
      "  sampled = sampled.append(_sampled).iloc[:size, :]\n",
      "C:\\Users\\David\\anaconda3\\lib\\site-packages\\pgmpy\\sampling\\Sampling.py:227: FutureWarning: The frame.append method is deprecated and will be removed from pandas in a future version. Use pandas.concat instead.\n",
      "  sampled = sampled.append(_sampled).iloc[:size, :]\n",
      "C:\\Users\\David\\anaconda3\\lib\\site-packages\\pgmpy\\sampling\\Sampling.py:227: FutureWarning: The frame.append method is deprecated and will be removed from pandas in a future version. Use pandas.concat instead.\n",
      "  sampled = sampled.append(_sampled).iloc[:size, :]\n",
      "C:\\Users\\David\\anaconda3\\lib\\site-packages\\pgmpy\\sampling\\Sampling.py:227: FutureWarning: The frame.append method is deprecated and will be removed from pandas in a future version. Use pandas.concat instead.\n",
      "  sampled = sampled.append(_sampled).iloc[:size, :]\n",
      "C:\\Users\\David\\anaconda3\\lib\\site-packages\\pgmpy\\sampling\\Sampling.py:227: FutureWarning: The frame.append method is deprecated and will be removed from pandas in a future version. Use pandas.concat instead.\n",
      "  sampled = sampled.append(_sampled).iloc[:size, :]\n",
      "C:\\Users\\David\\anaconda3\\lib\\site-packages\\pgmpy\\sampling\\Sampling.py:227: FutureWarning: The frame.append method is deprecated and will be removed from pandas in a future version. Use pandas.concat instead.\n",
      "  sampled = sampled.append(_sampled).iloc[:size, :]\n",
      "C:\\Users\\David\\anaconda3\\lib\\site-packages\\pgmpy\\sampling\\Sampling.py:227: FutureWarning: The frame.append method is deprecated and will be removed from pandas in a future version. Use pandas.concat instead.\n",
      "  sampled = sampled.append(_sampled).iloc[:size, :]\n",
      "C:\\Users\\David\\anaconda3\\lib\\site-packages\\pgmpy\\sampling\\Sampling.py:227: FutureWarning: The frame.append method is deprecated and will be removed from pandas in a future version. Use pandas.concat instead.\n",
      "  sampled = sampled.append(_sampled).iloc[:size, :]\n",
      "C:\\Users\\David\\anaconda3\\lib\\site-packages\\pgmpy\\sampling\\Sampling.py:227: FutureWarning: The frame.append method is deprecated and will be removed from pandas in a future version. Use pandas.concat instead.\n",
      "  sampled = sampled.append(_sampled).iloc[:size, :]\n",
      "C:\\Users\\David\\anaconda3\\lib\\site-packages\\pgmpy\\sampling\\Sampling.py:227: FutureWarning: The frame.append method is deprecated and will be removed from pandas in a future version. Use pandas.concat instead.\n",
      "  sampled = sampled.append(_sampled).iloc[:size, :]\n",
      "C:\\Users\\David\\anaconda3\\lib\\site-packages\\pgmpy\\sampling\\Sampling.py:227: FutureWarning: The frame.append method is deprecated and will be removed from pandas in a future version. Use pandas.concat instead.\n",
      "  sampled = sampled.append(_sampled).iloc[:size, :]\n",
      "C:\\Users\\David\\anaconda3\\lib\\site-packages\\pgmpy\\sampling\\Sampling.py:227: FutureWarning: The frame.append method is deprecated and will be removed from pandas in a future version. Use pandas.concat instead.\n",
      "  sampled = sampled.append(_sampled).iloc[:size, :]\n",
      "C:\\Users\\David\\anaconda3\\lib\\site-packages\\pgmpy\\sampling\\Sampling.py:227: FutureWarning: The frame.append method is deprecated and will be removed from pandas in a future version. Use pandas.concat instead.\n",
      "  sampled = sampled.append(_sampled).iloc[:size, :]\n",
      "C:\\Users\\David\\anaconda3\\lib\\site-packages\\pgmpy\\sampling\\Sampling.py:227: FutureWarning: The frame.append method is deprecated and will be removed from pandas in a future version. Use pandas.concat instead.\n",
      "  sampled = sampled.append(_sampled).iloc[:size, :]\n",
      "C:\\Users\\David\\anaconda3\\lib\\site-packages\\pgmpy\\sampling\\Sampling.py:227: FutureWarning: The frame.append method is deprecated and will be removed from pandas in a future version. Use pandas.concat instead.\n",
      "  sampled = sampled.append(_sampled).iloc[:size, :]\n",
      "C:\\Users\\David\\anaconda3\\lib\\site-packages\\pgmpy\\sampling\\Sampling.py:227: FutureWarning: The frame.append method is deprecated and will be removed from pandas in a future version. Use pandas.concat instead.\n",
      "  sampled = sampled.append(_sampled).iloc[:size, :]\n",
      "C:\\Users\\David\\anaconda3\\lib\\site-packages\\pgmpy\\sampling\\Sampling.py:227: FutureWarning: The frame.append method is deprecated and will be removed from pandas in a future version. Use pandas.concat instead.\n",
      "  sampled = sampled.append(_sampled).iloc[:size, :]\n",
      "C:\\Users\\David\\anaconda3\\lib\\site-packages\\pgmpy\\sampling\\Sampling.py:227: FutureWarning: The frame.append method is deprecated and will be removed from pandas in a future version. Use pandas.concat instead.\n",
      "  sampled = sampled.append(_sampled).iloc[:size, :]\n",
      "C:\\Users\\David\\anaconda3\\lib\\site-packages\\pgmpy\\sampling\\Sampling.py:227: FutureWarning: The frame.append method is deprecated and will be removed from pandas in a future version. Use pandas.concat instead.\n",
      "  sampled = sampled.append(_sampled).iloc[:size, :]\n",
      "C:\\Users\\David\\anaconda3\\lib\\site-packages\\pgmpy\\sampling\\Sampling.py:227: FutureWarning: The frame.append method is deprecated and will be removed from pandas in a future version. Use pandas.concat instead.\n",
      "  sampled = sampled.append(_sampled).iloc[:size, :]\n",
      "C:\\Users\\David\\anaconda3\\lib\\site-packages\\pgmpy\\sampling\\Sampling.py:227: FutureWarning: The frame.append method is deprecated and will be removed from pandas in a future version. Use pandas.concat instead.\n",
      "  sampled = sampled.append(_sampled).iloc[:size, :]\n",
      "C:\\Users\\David\\anaconda3\\lib\\site-packages\\pgmpy\\sampling\\Sampling.py:227: FutureWarning: The frame.append method is deprecated and will be removed from pandas in a future version. Use pandas.concat instead.\n",
      "  sampled = sampled.append(_sampled).iloc[:size, :]\n",
      "C:\\Users\\David\\anaconda3\\lib\\site-packages\\pgmpy\\sampling\\Sampling.py:227: FutureWarning: The frame.append method is deprecated and will be removed from pandas in a future version. Use pandas.concat instead.\n",
      "  sampled = sampled.append(_sampled).iloc[:size, :]\n",
      "C:\\Users\\David\\anaconda3\\lib\\site-packages\\pgmpy\\sampling\\Sampling.py:227: FutureWarning: The frame.append method is deprecated and will be removed from pandas in a future version. Use pandas.concat instead.\n",
      "  sampled = sampled.append(_sampled).iloc[:size, :]\n",
      "C:\\Users\\David\\anaconda3\\lib\\site-packages\\pgmpy\\sampling\\Sampling.py:227: FutureWarning: The frame.append method is deprecated and will be removed from pandas in a future version. Use pandas.concat instead.\n",
      "  sampled = sampled.append(_sampled).iloc[:size, :]\n",
      "C:\\Users\\David\\anaconda3\\lib\\site-packages\\pgmpy\\sampling\\Sampling.py:227: FutureWarning: The frame.append method is deprecated and will be removed from pandas in a future version. Use pandas.concat instead.\n",
      "  sampled = sampled.append(_sampled).iloc[:size, :]\n",
      "C:\\Users\\David\\anaconda3\\lib\\site-packages\\pgmpy\\sampling\\Sampling.py:227: FutureWarning: The frame.append method is deprecated and will be removed from pandas in a future version. Use pandas.concat instead.\n",
      "  sampled = sampled.append(_sampled).iloc[:size, :]\n",
      "C:\\Users\\David\\anaconda3\\lib\\site-packages\\pgmpy\\sampling\\Sampling.py:227: FutureWarning: The frame.append method is deprecated and will be removed from pandas in a future version. Use pandas.concat instead.\n",
      "  sampled = sampled.append(_sampled).iloc[:size, :]\n",
      "C:\\Users\\David\\anaconda3\\lib\\site-packages\\pgmpy\\sampling\\Sampling.py:227: FutureWarning: The frame.append method is deprecated and will be removed from pandas in a future version. Use pandas.concat instead.\n",
      "  sampled = sampled.append(_sampled).iloc[:size, :]\n",
      "C:\\Users\\David\\anaconda3\\lib\\site-packages\\pgmpy\\sampling\\Sampling.py:227: FutureWarning: The frame.append method is deprecated and will be removed from pandas in a future version. Use pandas.concat instead.\n",
      "  sampled = sampled.append(_sampled).iloc[:size, :]\n",
      "C:\\Users\\David\\anaconda3\\lib\\site-packages\\pgmpy\\sampling\\Sampling.py:227: FutureWarning: The frame.append method is deprecated and will be removed from pandas in a future version. Use pandas.concat instead.\n",
      "  sampled = sampled.append(_sampled).iloc[:size, :]\n",
      "C:\\Users\\David\\anaconda3\\lib\\site-packages\\pgmpy\\sampling\\Sampling.py:227: FutureWarning: The frame.append method is deprecated and will be removed from pandas in a future version. Use pandas.concat instead.\n",
      "  sampled = sampled.append(_sampled).iloc[:size, :]\n",
      "C:\\Users\\David\\anaconda3\\lib\\site-packages\\pgmpy\\sampling\\Sampling.py:227: FutureWarning: The frame.append method is deprecated and will be removed from pandas in a future version. Use pandas.concat instead.\n",
      "  sampled = sampled.append(_sampled).iloc[:size, :]\n",
      "C:\\Users\\David\\anaconda3\\lib\\site-packages\\pgmpy\\sampling\\Sampling.py:227: FutureWarning: The frame.append method is deprecated and will be removed from pandas in a future version. Use pandas.concat instead.\n",
      "  sampled = sampled.append(_sampled).iloc[:size, :]\n",
      "C:\\Users\\David\\anaconda3\\lib\\site-packages\\pgmpy\\sampling\\Sampling.py:227: FutureWarning: The frame.append method is deprecated and will be removed from pandas in a future version. Use pandas.concat instead.\n",
      "  sampled = sampled.append(_sampled).iloc[:size, :]\n",
      "C:\\Users\\David\\anaconda3\\lib\\site-packages\\pgmpy\\sampling\\Sampling.py:227: FutureWarning: The frame.append method is deprecated and will be removed from pandas in a future version. Use pandas.concat instead.\n",
      "  sampled = sampled.append(_sampled).iloc[:size, :]\n",
      "C:\\Users\\David\\anaconda3\\lib\\site-packages\\pgmpy\\sampling\\Sampling.py:227: FutureWarning: The frame.append method is deprecated and will be removed from pandas in a future version. Use pandas.concat instead.\n",
      "  sampled = sampled.append(_sampled).iloc[:size, :]\n",
      "C:\\Users\\David\\anaconda3\\lib\\site-packages\\pgmpy\\sampling\\Sampling.py:227: FutureWarning: The frame.append method is deprecated and will be removed from pandas in a future version. Use pandas.concat instead.\n",
      "  sampled = sampled.append(_sampled).iloc[:size, :]\n",
      "C:\\Users\\David\\anaconda3\\lib\\site-packages\\pgmpy\\sampling\\Sampling.py:227: FutureWarning: The frame.append method is deprecated and will be removed from pandas in a future version. Use pandas.concat instead.\n",
      "  sampled = sampled.append(_sampled).iloc[:size, :]\n",
      "C:\\Users\\David\\anaconda3\\lib\\site-packages\\pgmpy\\sampling\\Sampling.py:227: FutureWarning: The frame.append method is deprecated and will be removed from pandas in a future version. Use pandas.concat instead.\n",
      "  sampled = sampled.append(_sampled).iloc[:size, :]\n",
      "C:\\Users\\David\\anaconda3\\lib\\site-packages\\pgmpy\\sampling\\Sampling.py:227: FutureWarning: The frame.append method is deprecated and will be removed from pandas in a future version. Use pandas.concat instead.\n",
      "  sampled = sampled.append(_sampled).iloc[:size, :]\n",
      "C:\\Users\\David\\anaconda3\\lib\\site-packages\\pgmpy\\sampling\\Sampling.py:227: FutureWarning: The frame.append method is deprecated and will be removed from pandas in a future version. Use pandas.concat instead.\n",
      "  sampled = sampled.append(_sampled).iloc[:size, :]\n",
      "C:\\Users\\David\\anaconda3\\lib\\site-packages\\pgmpy\\sampling\\Sampling.py:227: FutureWarning: The frame.append method is deprecated and will be removed from pandas in a future version. Use pandas.concat instead.\n",
      "  sampled = sampled.append(_sampled).iloc[:size, :]\n",
      "C:\\Users\\David\\anaconda3\\lib\\site-packages\\pgmpy\\sampling\\Sampling.py:227: FutureWarning: The frame.append method is deprecated and will be removed from pandas in a future version. Use pandas.concat instead.\n",
      "  sampled = sampled.append(_sampled).iloc[:size, :]\n",
      "C:\\Users\\David\\anaconda3\\lib\\site-packages\\pgmpy\\sampling\\Sampling.py:227: FutureWarning: The frame.append method is deprecated and will be removed from pandas in a future version. Use pandas.concat instead.\n",
      "  sampled = sampled.append(_sampled).iloc[:size, :]\n",
      "C:\\Users\\David\\anaconda3\\lib\\site-packages\\pgmpy\\sampling\\Sampling.py:227: FutureWarning: The frame.append method is deprecated and will be removed from pandas in a future version. Use pandas.concat instead.\n",
      "  sampled = sampled.append(_sampled).iloc[:size, :]\n",
      "C:\\Users\\David\\anaconda3\\lib\\site-packages\\pgmpy\\sampling\\Sampling.py:227: FutureWarning: The frame.append method is deprecated and will be removed from pandas in a future version. Use pandas.concat instead.\n",
      "  sampled = sampled.append(_sampled).iloc[:size, :]\n",
      "C:\\Users\\David\\anaconda3\\lib\\site-packages\\pgmpy\\sampling\\Sampling.py:227: FutureWarning: The frame.append method is deprecated and will be removed from pandas in a future version. Use pandas.concat instead.\n",
      "  sampled = sampled.append(_sampled).iloc[:size, :]\n",
      "C:\\Users\\David\\anaconda3\\lib\\site-packages\\pgmpy\\sampling\\Sampling.py:227: FutureWarning: The frame.append method is deprecated and will be removed from pandas in a future version. Use pandas.concat instead.\n",
      "  sampled = sampled.append(_sampled).iloc[:size, :]\n",
      "C:\\Users\\David\\anaconda3\\lib\\site-packages\\pgmpy\\sampling\\Sampling.py:227: FutureWarning: The frame.append method is deprecated and will be removed from pandas in a future version. Use pandas.concat instead.\n",
      "  sampled = sampled.append(_sampled).iloc[:size, :]\n",
      "C:\\Users\\David\\anaconda3\\lib\\site-packages\\pgmpy\\sampling\\Sampling.py:227: FutureWarning: The frame.append method is deprecated and will be removed from pandas in a future version. Use pandas.concat instead.\n",
      "  sampled = sampled.append(_sampled).iloc[:size, :]\n",
      "C:\\Users\\David\\anaconda3\\lib\\site-packages\\pgmpy\\sampling\\Sampling.py:227: FutureWarning: The frame.append method is deprecated and will be removed from pandas in a future version. Use pandas.concat instead.\n",
      "  sampled = sampled.append(_sampled).iloc[:size, :]\n",
      "C:\\Users\\David\\anaconda3\\lib\\site-packages\\pgmpy\\sampling\\Sampling.py:227: FutureWarning: The frame.append method is deprecated and will be removed from pandas in a future version. Use pandas.concat instead.\n",
      "  sampled = sampled.append(_sampled).iloc[:size, :]\n",
      "C:\\Users\\David\\anaconda3\\lib\\site-packages\\pgmpy\\sampling\\Sampling.py:227: FutureWarning: The frame.append method is deprecated and will be removed from pandas in a future version. Use pandas.concat instead.\n",
      "  sampled = sampled.append(_sampled).iloc[:size, :]\n",
      "C:\\Users\\David\\anaconda3\\lib\\site-packages\\pgmpy\\sampling\\Sampling.py:227: FutureWarning: The frame.append method is deprecated and will be removed from pandas in a future version. Use pandas.concat instead.\n",
      "  sampled = sampled.append(_sampled).iloc[:size, :]\n",
      "C:\\Users\\David\\anaconda3\\lib\\site-packages\\pgmpy\\sampling\\Sampling.py:227: FutureWarning: The frame.append method is deprecated and will be removed from pandas in a future version. Use pandas.concat instead.\n",
      "  sampled = sampled.append(_sampled).iloc[:size, :]\n",
      "C:\\Users\\David\\anaconda3\\lib\\site-packages\\pgmpy\\sampling\\Sampling.py:227: FutureWarning: The frame.append method is deprecated and will be removed from pandas in a future version. Use pandas.concat instead.\n",
      "  sampled = sampled.append(_sampled).iloc[:size, :]\n",
      "C:\\Users\\David\\anaconda3\\lib\\site-packages\\pgmpy\\sampling\\Sampling.py:227: FutureWarning: The frame.append method is deprecated and will be removed from pandas in a future version. Use pandas.concat instead.\n",
      "  sampled = sampled.append(_sampled).iloc[:size, :]\n",
      "C:\\Users\\David\\anaconda3\\lib\\site-packages\\pgmpy\\sampling\\Sampling.py:227: FutureWarning: The frame.append method is deprecated and will be removed from pandas in a future version. Use pandas.concat instead.\n",
      "  sampled = sampled.append(_sampled).iloc[:size, :]\n",
      "C:\\Users\\David\\anaconda3\\lib\\site-packages\\pgmpy\\sampling\\Sampling.py:227: FutureWarning: The frame.append method is deprecated and will be removed from pandas in a future version. Use pandas.concat instead.\n",
      "  sampled = sampled.append(_sampled).iloc[:size, :]\n",
      "C:\\Users\\David\\anaconda3\\lib\\site-packages\\pgmpy\\sampling\\Sampling.py:227: FutureWarning: The frame.append method is deprecated and will be removed from pandas in a future version. Use pandas.concat instead.\n",
      "  sampled = sampled.append(_sampled).iloc[:size, :]\n",
      "C:\\Users\\David\\anaconda3\\lib\\site-packages\\pgmpy\\sampling\\Sampling.py:227: FutureWarning: The frame.append method is deprecated and will be removed from pandas in a future version. Use pandas.concat instead.\n",
      "  sampled = sampled.append(_sampled).iloc[:size, :]\n",
      "C:\\Users\\David\\anaconda3\\lib\\site-packages\\pgmpy\\sampling\\Sampling.py:227: FutureWarning: The frame.append method is deprecated and will be removed from pandas in a future version. Use pandas.concat instead.\n",
      "  sampled = sampled.append(_sampled).iloc[:size, :]\n",
      "C:\\Users\\David\\anaconda3\\lib\\site-packages\\pgmpy\\sampling\\Sampling.py:227: FutureWarning: The frame.append method is deprecated and will be removed from pandas in a future version. Use pandas.concat instead.\n",
      "  sampled = sampled.append(_sampled).iloc[:size, :]\n",
      "C:\\Users\\David\\anaconda3\\lib\\site-packages\\pgmpy\\sampling\\Sampling.py:227: FutureWarning: The frame.append method is deprecated and will be removed from pandas in a future version. Use pandas.concat instead.\n",
      "  sampled = sampled.append(_sampled).iloc[:size, :]\n",
      "C:\\Users\\David\\anaconda3\\lib\\site-packages\\pgmpy\\sampling\\Sampling.py:227: FutureWarning: The frame.append method is deprecated and will be removed from pandas in a future version. Use pandas.concat instead.\n",
      "  sampled = sampled.append(_sampled).iloc[:size, :]\n",
      "C:\\Users\\David\\anaconda3\\lib\\site-packages\\pgmpy\\sampling\\Sampling.py:227: FutureWarning: The frame.append method is deprecated and will be removed from pandas in a future version. Use pandas.concat instead.\n",
      "  sampled = sampled.append(_sampled).iloc[:size, :]\n",
      "C:\\Users\\David\\anaconda3\\lib\\site-packages\\pgmpy\\sampling\\Sampling.py:227: FutureWarning: The frame.append method is deprecated and will be removed from pandas in a future version. Use pandas.concat instead.\n",
      "  sampled = sampled.append(_sampled).iloc[:size, :]\n",
      "C:\\Users\\David\\anaconda3\\lib\\site-packages\\pgmpy\\sampling\\Sampling.py:227: FutureWarning: The frame.append method is deprecated and will be removed from pandas in a future version. Use pandas.concat instead.\n",
      "  sampled = sampled.append(_sampled).iloc[:size, :]\n",
      "C:\\Users\\David\\anaconda3\\lib\\site-packages\\pgmpy\\sampling\\Sampling.py:227: FutureWarning: The frame.append method is deprecated and will be removed from pandas in a future version. Use pandas.concat instead.\n",
      "  sampled = sampled.append(_sampled).iloc[:size, :]\n",
      "C:\\Users\\David\\anaconda3\\lib\\site-packages\\pgmpy\\sampling\\Sampling.py:227: FutureWarning: The frame.append method is deprecated and will be removed from pandas in a future version. Use pandas.concat instead.\n",
      "  sampled = sampled.append(_sampled).iloc[:size, :]\n",
      "C:\\Users\\David\\anaconda3\\lib\\site-packages\\pgmpy\\sampling\\Sampling.py:227: FutureWarning: The frame.append method is deprecated and will be removed from pandas in a future version. Use pandas.concat instead.\n",
      "  sampled = sampled.append(_sampled).iloc[:size, :]\n",
      "C:\\Users\\David\\anaconda3\\lib\\site-packages\\pgmpy\\sampling\\Sampling.py:227: FutureWarning: The frame.append method is deprecated and will be removed from pandas in a future version. Use pandas.concat instead.\n",
      "  sampled = sampled.append(_sampled).iloc[:size, :]\n",
      "C:\\Users\\David\\anaconda3\\lib\\site-packages\\pgmpy\\sampling\\Sampling.py:227: FutureWarning: The frame.append method is deprecated and will be removed from pandas in a future version. Use pandas.concat instead.\n",
      "  sampled = sampled.append(_sampled).iloc[:size, :]\n",
      "C:\\Users\\David\\anaconda3\\lib\\site-packages\\pgmpy\\sampling\\Sampling.py:227: FutureWarning: The frame.append method is deprecated and will be removed from pandas in a future version. Use pandas.concat instead.\n",
      "  sampled = sampled.append(_sampled).iloc[:size, :]\n",
      "C:\\Users\\David\\anaconda3\\lib\\site-packages\\pgmpy\\sampling\\Sampling.py:227: FutureWarning: The frame.append method is deprecated and will be removed from pandas in a future version. Use pandas.concat instead.\n",
      "  sampled = sampled.append(_sampled).iloc[:size, :]\n",
      "C:\\Users\\David\\anaconda3\\lib\\site-packages\\pgmpy\\sampling\\Sampling.py:227: FutureWarning: The frame.append method is deprecated and will be removed from pandas in a future version. Use pandas.concat instead.\n",
      "  sampled = sampled.append(_sampled).iloc[:size, :]\n",
      "C:\\Users\\David\\anaconda3\\lib\\site-packages\\pgmpy\\sampling\\Sampling.py:227: FutureWarning: The frame.append method is deprecated and will be removed from pandas in a future version. Use pandas.concat instead.\n",
      "  sampled = sampled.append(_sampled).iloc[:size, :]\n",
      "C:\\Users\\David\\anaconda3\\lib\\site-packages\\pgmpy\\sampling\\Sampling.py:227: FutureWarning: The frame.append method is deprecated and will be removed from pandas in a future version. Use pandas.concat instead.\n",
      "  sampled = sampled.append(_sampled).iloc[:size, :]\n",
      "C:\\Users\\David\\anaconda3\\lib\\site-packages\\pgmpy\\sampling\\Sampling.py:227: FutureWarning: The frame.append method is deprecated and will be removed from pandas in a future version. Use pandas.concat instead.\n",
      "  sampled = sampled.append(_sampled).iloc[:size, :]\n",
      "C:\\Users\\David\\anaconda3\\lib\\site-packages\\pgmpy\\sampling\\Sampling.py:227: FutureWarning: The frame.append method is deprecated and will be removed from pandas in a future version. Use pandas.concat instead.\n",
      "  sampled = sampled.append(_sampled).iloc[:size, :]\n",
      "C:\\Users\\David\\anaconda3\\lib\\site-packages\\pgmpy\\sampling\\Sampling.py:227: FutureWarning: The frame.append method is deprecated and will be removed from pandas in a future version. Use pandas.concat instead.\n",
      "  sampled = sampled.append(_sampled).iloc[:size, :]\n",
      "C:\\Users\\David\\anaconda3\\lib\\site-packages\\pgmpy\\sampling\\Sampling.py:227: FutureWarning: The frame.append method is deprecated and will be removed from pandas in a future version. Use pandas.concat instead.\n",
      "  sampled = sampled.append(_sampled).iloc[:size, :]\n",
      "C:\\Users\\David\\anaconda3\\lib\\site-packages\\pgmpy\\sampling\\Sampling.py:227: FutureWarning: The frame.append method is deprecated and will be removed from pandas in a future version. Use pandas.concat instead.\n",
      "  sampled = sampled.append(_sampled).iloc[:size, :]\n",
      "C:\\Users\\David\\anaconda3\\lib\\site-packages\\pgmpy\\sampling\\Sampling.py:227: FutureWarning: The frame.append method is deprecated and will be removed from pandas in a future version. Use pandas.concat instead.\n",
      "  sampled = sampled.append(_sampled).iloc[:size, :]\n",
      "C:\\Users\\David\\anaconda3\\lib\\site-packages\\pgmpy\\sampling\\Sampling.py:227: FutureWarning: The frame.append method is deprecated and will be removed from pandas in a future version. Use pandas.concat instead.\n",
      "  sampled = sampled.append(_sampled).iloc[:size, :]\n",
      "C:\\Users\\David\\anaconda3\\lib\\site-packages\\pgmpy\\sampling\\Sampling.py:227: FutureWarning: The frame.append method is deprecated and will be removed from pandas in a future version. Use pandas.concat instead.\n",
      "  sampled = sampled.append(_sampled).iloc[:size, :]\n",
      "C:\\Users\\David\\anaconda3\\lib\\site-packages\\pgmpy\\sampling\\Sampling.py:227: FutureWarning: The frame.append method is deprecated and will be removed from pandas in a future version. Use pandas.concat instead.\n",
      "  sampled = sampled.append(_sampled).iloc[:size, :]\n",
      "C:\\Users\\David\\anaconda3\\lib\\site-packages\\pgmpy\\sampling\\Sampling.py:227: FutureWarning: The frame.append method is deprecated and will be removed from pandas in a future version. Use pandas.concat instead.\n",
      "  sampled = sampled.append(_sampled).iloc[:size, :]\n",
      "C:\\Users\\David\\anaconda3\\lib\\site-packages\\pgmpy\\sampling\\Sampling.py:227: FutureWarning: The frame.append method is deprecated and will be removed from pandas in a future version. Use pandas.concat instead.\n",
      "  sampled = sampled.append(_sampled).iloc[:size, :]\n",
      "C:\\Users\\David\\anaconda3\\lib\\site-packages\\pgmpy\\sampling\\Sampling.py:227: FutureWarning: The frame.append method is deprecated and will be removed from pandas in a future version. Use pandas.concat instead.\n",
      "  sampled = sampled.append(_sampled).iloc[:size, :]\n",
      "C:\\Users\\David\\anaconda3\\lib\\site-packages\\pgmpy\\sampling\\Sampling.py:227: FutureWarning: The frame.append method is deprecated and will be removed from pandas in a future version. Use pandas.concat instead.\n",
      "  sampled = sampled.append(_sampled).iloc[:size, :]\n",
      "C:\\Users\\David\\anaconda3\\lib\\site-packages\\pgmpy\\sampling\\Sampling.py:227: FutureWarning: The frame.append method is deprecated and will be removed from pandas in a future version. Use pandas.concat instead.\n",
      "  sampled = sampled.append(_sampled).iloc[:size, :]\n",
      "C:\\Users\\David\\anaconda3\\lib\\site-packages\\pgmpy\\sampling\\Sampling.py:227: FutureWarning: The frame.append method is deprecated and will be removed from pandas in a future version. Use pandas.concat instead.\n",
      "  sampled = sampled.append(_sampled).iloc[:size, :]\n",
      "C:\\Users\\David\\anaconda3\\lib\\site-packages\\pgmpy\\sampling\\Sampling.py:227: FutureWarning: The frame.append method is deprecated and will be removed from pandas in a future version. Use pandas.concat instead.\n",
      "  sampled = sampled.append(_sampled).iloc[:size, :]\n",
      "C:\\Users\\David\\anaconda3\\lib\\site-packages\\pgmpy\\sampling\\Sampling.py:227: FutureWarning: The frame.append method is deprecated and will be removed from pandas in a future version. Use pandas.concat instead.\n",
      "  sampled = sampled.append(_sampled).iloc[:size, :]\n",
      "C:\\Users\\David\\anaconda3\\lib\\site-packages\\pgmpy\\sampling\\Sampling.py:227: FutureWarning: The frame.append method is deprecated and will be removed from pandas in a future version. Use pandas.concat instead.\n",
      "  sampled = sampled.append(_sampled).iloc[:size, :]\n",
      "C:\\Users\\David\\anaconda3\\lib\\site-packages\\pgmpy\\sampling\\Sampling.py:227: FutureWarning: The frame.append method is deprecated and will be removed from pandas in a future version. Use pandas.concat instead.\n",
      "  sampled = sampled.append(_sampled).iloc[:size, :]\n",
      "C:\\Users\\David\\anaconda3\\lib\\site-packages\\pgmpy\\sampling\\Sampling.py:227: FutureWarning: The frame.append method is deprecated and will be removed from pandas in a future version. Use pandas.concat instead.\n",
      "  sampled = sampled.append(_sampled).iloc[:size, :]\n",
      "C:\\Users\\David\\anaconda3\\lib\\site-packages\\pgmpy\\sampling\\Sampling.py:227: FutureWarning: The frame.append method is deprecated and will be removed from pandas in a future version. Use pandas.concat instead.\n",
      "  sampled = sampled.append(_sampled).iloc[:size, :]\n",
      "C:\\Users\\David\\anaconda3\\lib\\site-packages\\pgmpy\\sampling\\Sampling.py:227: FutureWarning: The frame.append method is deprecated and will be removed from pandas in a future version. Use pandas.concat instead.\n",
      "  sampled = sampled.append(_sampled).iloc[:size, :]\n",
      "C:\\Users\\David\\anaconda3\\lib\\site-packages\\pgmpy\\sampling\\Sampling.py:227: FutureWarning: The frame.append method is deprecated and will be removed from pandas in a future version. Use pandas.concat instead.\n",
      "  sampled = sampled.append(_sampled).iloc[:size, :]\n",
      "C:\\Users\\David\\anaconda3\\lib\\site-packages\\pgmpy\\sampling\\Sampling.py:227: FutureWarning: The frame.append method is deprecated and will be removed from pandas in a future version. Use pandas.concat instead.\n",
      "  sampled = sampled.append(_sampled).iloc[:size, :]\n",
      "C:\\Users\\David\\anaconda3\\lib\\site-packages\\pgmpy\\sampling\\Sampling.py:227: FutureWarning: The frame.append method is deprecated and will be removed from pandas in a future version. Use pandas.concat instead.\n",
      "  sampled = sampled.append(_sampled).iloc[:size, :]\n",
      "C:\\Users\\David\\anaconda3\\lib\\site-packages\\pgmpy\\sampling\\Sampling.py:227: FutureWarning: The frame.append method is deprecated and will be removed from pandas in a future version. Use pandas.concat instead.\n",
      "  sampled = sampled.append(_sampled).iloc[:size, :]\n",
      "C:\\Users\\David\\anaconda3\\lib\\site-packages\\pgmpy\\sampling\\Sampling.py:227: FutureWarning: The frame.append method is deprecated and will be removed from pandas in a future version. Use pandas.concat instead.\n",
      "  sampled = sampled.append(_sampled).iloc[:size, :]\n",
      "C:\\Users\\David\\anaconda3\\lib\\site-packages\\pgmpy\\sampling\\Sampling.py:227: FutureWarning: The frame.append method is deprecated and will be removed from pandas in a future version. Use pandas.concat instead.\n",
      "  sampled = sampled.append(_sampled).iloc[:size, :]\n",
      "C:\\Users\\David\\anaconda3\\lib\\site-packages\\pgmpy\\sampling\\Sampling.py:227: FutureWarning: The frame.append method is deprecated and will be removed from pandas in a future version. Use pandas.concat instead.\n",
      "  sampled = sampled.append(_sampled).iloc[:size, :]\n",
      "C:\\Users\\David\\anaconda3\\lib\\site-packages\\pgmpy\\sampling\\Sampling.py:227: FutureWarning: The frame.append method is deprecated and will be removed from pandas in a future version. Use pandas.concat instead.\n",
      "  sampled = sampled.append(_sampled).iloc[:size, :]\n",
      "C:\\Users\\David\\anaconda3\\lib\\site-packages\\pgmpy\\sampling\\Sampling.py:227: FutureWarning: The frame.append method is deprecated and will be removed from pandas in a future version. Use pandas.concat instead.\n",
      "  sampled = sampled.append(_sampled).iloc[:size, :]\n",
      "C:\\Users\\David\\anaconda3\\lib\\site-packages\\pgmpy\\sampling\\Sampling.py:227: FutureWarning: The frame.append method is deprecated and will be removed from pandas in a future version. Use pandas.concat instead.\n",
      "  sampled = sampled.append(_sampled).iloc[:size, :]\n",
      "C:\\Users\\David\\anaconda3\\lib\\site-packages\\pgmpy\\sampling\\Sampling.py:227: FutureWarning: The frame.append method is deprecated and will be removed from pandas in a future version. Use pandas.concat instead.\n",
      "  sampled = sampled.append(_sampled).iloc[:size, :]\n",
      "C:\\Users\\David\\anaconda3\\lib\\site-packages\\pgmpy\\sampling\\Sampling.py:227: FutureWarning: The frame.append method is deprecated and will be removed from pandas in a future version. Use pandas.concat instead.\n",
      "  sampled = sampled.append(_sampled).iloc[:size, :]\n",
      "C:\\Users\\David\\anaconda3\\lib\\site-packages\\pgmpy\\sampling\\Sampling.py:227: FutureWarning: The frame.append method is deprecated and will be removed from pandas in a future version. Use pandas.concat instead.\n",
      "  sampled = sampled.append(_sampled).iloc[:size, :]\n",
      "C:\\Users\\David\\anaconda3\\lib\\site-packages\\pgmpy\\sampling\\Sampling.py:227: FutureWarning: The frame.append method is deprecated and will be removed from pandas in a future version. Use pandas.concat instead.\n",
      "  sampled = sampled.append(_sampled).iloc[:size, :]\n",
      "C:\\Users\\David\\anaconda3\\lib\\site-packages\\pgmpy\\sampling\\Sampling.py:227: FutureWarning: The frame.append method is deprecated and will be removed from pandas in a future version. Use pandas.concat instead.\n",
      "  sampled = sampled.append(_sampled).iloc[:size, :]\n",
      "C:\\Users\\David\\anaconda3\\lib\\site-packages\\pgmpy\\sampling\\Sampling.py:227: FutureWarning: The frame.append method is deprecated and will be removed from pandas in a future version. Use pandas.concat instead.\n",
      "  sampled = sampled.append(_sampled).iloc[:size, :]\n",
      "C:\\Users\\David\\anaconda3\\lib\\site-packages\\pgmpy\\sampling\\Sampling.py:227: FutureWarning: The frame.append method is deprecated and will be removed from pandas in a future version. Use pandas.concat instead.\n",
      "  sampled = sampled.append(_sampled).iloc[:size, :]\n",
      "C:\\Users\\David\\anaconda3\\lib\\site-packages\\pgmpy\\sampling\\Sampling.py:227: FutureWarning: The frame.append method is deprecated and will be removed from pandas in a future version. Use pandas.concat instead.\n",
      "  sampled = sampled.append(_sampled).iloc[:size, :]\n",
      "C:\\Users\\David\\anaconda3\\lib\\site-packages\\pgmpy\\sampling\\Sampling.py:227: FutureWarning: The frame.append method is deprecated and will be removed from pandas in a future version. Use pandas.concat instead.\n",
      "  sampled = sampled.append(_sampled).iloc[:size, :]\n",
      "C:\\Users\\David\\anaconda3\\lib\\site-packages\\pgmpy\\sampling\\Sampling.py:227: FutureWarning: The frame.append method is deprecated and will be removed from pandas in a future version. Use pandas.concat instead.\n",
      "  sampled = sampled.append(_sampled).iloc[:size, :]\n",
      "C:\\Users\\David\\anaconda3\\lib\\site-packages\\pgmpy\\sampling\\Sampling.py:227: FutureWarning: The frame.append method is deprecated and will be removed from pandas in a future version. Use pandas.concat instead.\n",
      "  sampled = sampled.append(_sampled).iloc[:size, :]\n",
      "C:\\Users\\David\\anaconda3\\lib\\site-packages\\pgmpy\\sampling\\Sampling.py:227: FutureWarning: The frame.append method is deprecated and will be removed from pandas in a future version. Use pandas.concat instead.\n",
      "  sampled = sampled.append(_sampled).iloc[:size, :]\n",
      "C:\\Users\\David\\anaconda3\\lib\\site-packages\\pgmpy\\sampling\\Sampling.py:227: FutureWarning: The frame.append method is deprecated and will be removed from pandas in a future version. Use pandas.concat instead.\n",
      "  sampled = sampled.append(_sampled).iloc[:size, :]\n",
      "C:\\Users\\David\\anaconda3\\lib\\site-packages\\pgmpy\\sampling\\Sampling.py:227: FutureWarning: The frame.append method is deprecated and will be removed from pandas in a future version. Use pandas.concat instead.\n",
      "  sampled = sampled.append(_sampled).iloc[:size, :]\n",
      "C:\\Users\\David\\anaconda3\\lib\\site-packages\\pgmpy\\sampling\\Sampling.py:227: FutureWarning: The frame.append method is deprecated and will be removed from pandas in a future version. Use pandas.concat instead.\n",
      "  sampled = sampled.append(_sampled).iloc[:size, :]\n",
      "C:\\Users\\David\\anaconda3\\lib\\site-packages\\pgmpy\\sampling\\Sampling.py:227: FutureWarning: The frame.append method is deprecated and will be removed from pandas in a future version. Use pandas.concat instead.\n",
      "  sampled = sampled.append(_sampled).iloc[:size, :]\n",
      "C:\\Users\\David\\anaconda3\\lib\\site-packages\\pgmpy\\sampling\\Sampling.py:227: FutureWarning: The frame.append method is deprecated and will be removed from pandas in a future version. Use pandas.concat instead.\n",
      "  sampled = sampled.append(_sampled).iloc[:size, :]\n",
      "C:\\Users\\David\\anaconda3\\lib\\site-packages\\pgmpy\\sampling\\Sampling.py:227: FutureWarning: The frame.append method is deprecated and will be removed from pandas in a future version. Use pandas.concat instead.\n",
      "  sampled = sampled.append(_sampled).iloc[:size, :]\n",
      "C:\\Users\\David\\anaconda3\\lib\\site-packages\\pgmpy\\sampling\\Sampling.py:227: FutureWarning: The frame.append method is deprecated and will be removed from pandas in a future version. Use pandas.concat instead.\n",
      "  sampled = sampled.append(_sampled).iloc[:size, :]\n",
      "C:\\Users\\David\\anaconda3\\lib\\site-packages\\pgmpy\\sampling\\Sampling.py:227: FutureWarning: The frame.append method is deprecated and will be removed from pandas in a future version. Use pandas.concat instead.\n",
      "  sampled = sampled.append(_sampled).iloc[:size, :]\n",
      "C:\\Users\\David\\anaconda3\\lib\\site-packages\\pgmpy\\sampling\\Sampling.py:227: FutureWarning: The frame.append method is deprecated and will be removed from pandas in a future version. Use pandas.concat instead.\n",
      "  sampled = sampled.append(_sampled).iloc[:size, :]\n",
      "C:\\Users\\David\\anaconda3\\lib\\site-packages\\pgmpy\\sampling\\Sampling.py:227: FutureWarning: The frame.append method is deprecated and will be removed from pandas in a future version. Use pandas.concat instead.\n",
      "  sampled = sampled.append(_sampled).iloc[:size, :]\n",
      "C:\\Users\\David\\anaconda3\\lib\\site-packages\\pgmpy\\sampling\\Sampling.py:227: FutureWarning: The frame.append method is deprecated and will be removed from pandas in a future version. Use pandas.concat instead.\n",
      "  sampled = sampled.append(_sampled).iloc[:size, :]\n",
      "C:\\Users\\David\\anaconda3\\lib\\site-packages\\pgmpy\\sampling\\Sampling.py:227: FutureWarning: The frame.append method is deprecated and will be removed from pandas in a future version. Use pandas.concat instead.\n",
      "  sampled = sampled.append(_sampled).iloc[:size, :]\n",
      "C:\\Users\\David\\anaconda3\\lib\\site-packages\\pgmpy\\sampling\\Sampling.py:227: FutureWarning: The frame.append method is deprecated and will be removed from pandas in a future version. Use pandas.concat instead.\n",
      "  sampled = sampled.append(_sampled).iloc[:size, :]\n",
      "C:\\Users\\David\\anaconda3\\lib\\site-packages\\pgmpy\\sampling\\Sampling.py:227: FutureWarning: The frame.append method is deprecated and will be removed from pandas in a future version. Use pandas.concat instead.\n",
      "  sampled = sampled.append(_sampled).iloc[:size, :]\n",
      "C:\\Users\\David\\anaconda3\\lib\\site-packages\\pgmpy\\sampling\\Sampling.py:227: FutureWarning: The frame.append method is deprecated and will be removed from pandas in a future version. Use pandas.concat instead.\n",
      "  sampled = sampled.append(_sampled).iloc[:size, :]\n",
      "C:\\Users\\David\\anaconda3\\lib\\site-packages\\pgmpy\\sampling\\Sampling.py:227: FutureWarning: The frame.append method is deprecated and will be removed from pandas in a future version. Use pandas.concat instead.\n",
      "  sampled = sampled.append(_sampled).iloc[:size, :]\n",
      "C:\\Users\\David\\anaconda3\\lib\\site-packages\\pgmpy\\sampling\\Sampling.py:227: FutureWarning: The frame.append method is deprecated and will be removed from pandas in a future version. Use pandas.concat instead.\n",
      "  sampled = sampled.append(_sampled).iloc[:size, :]\n",
      "C:\\Users\\David\\anaconda3\\lib\\site-packages\\pgmpy\\sampling\\Sampling.py:227: FutureWarning: The frame.append method is deprecated and will be removed from pandas in a future version. Use pandas.concat instead.\n",
      "  sampled = sampled.append(_sampled).iloc[:size, :]\n",
      "C:\\Users\\David\\anaconda3\\lib\\site-packages\\pgmpy\\sampling\\Sampling.py:227: FutureWarning: The frame.append method is deprecated and will be removed from pandas in a future version. Use pandas.concat instead.\n",
      "  sampled = sampled.append(_sampled).iloc[:size, :]\n",
      "C:\\Users\\David\\anaconda3\\lib\\site-packages\\pgmpy\\sampling\\Sampling.py:227: FutureWarning: The frame.append method is deprecated and will be removed from pandas in a future version. Use pandas.concat instead.\n",
      "  sampled = sampled.append(_sampled).iloc[:size, :]\n",
      "C:\\Users\\David\\anaconda3\\lib\\site-packages\\pgmpy\\sampling\\Sampling.py:227: FutureWarning: The frame.append method is deprecated and will be removed from pandas in a future version. Use pandas.concat instead.\n",
      "  sampled = sampled.append(_sampled).iloc[:size, :]\n",
      "C:\\Users\\David\\anaconda3\\lib\\site-packages\\pgmpy\\sampling\\Sampling.py:227: FutureWarning: The frame.append method is deprecated and will be removed from pandas in a future version. Use pandas.concat instead.\n",
      "  sampled = sampled.append(_sampled).iloc[:size, :]\n",
      "C:\\Users\\David\\anaconda3\\lib\\site-packages\\pgmpy\\sampling\\Sampling.py:227: FutureWarning: The frame.append method is deprecated and will be removed from pandas in a future version. Use pandas.concat instead.\n",
      "  sampled = sampled.append(_sampled).iloc[:size, :]\n",
      "C:\\Users\\David\\anaconda3\\lib\\site-packages\\pgmpy\\sampling\\Sampling.py:227: FutureWarning: The frame.append method is deprecated and will be removed from pandas in a future version. Use pandas.concat instead.\n",
      "  sampled = sampled.append(_sampled).iloc[:size, :]\n",
      "C:\\Users\\David\\anaconda3\\lib\\site-packages\\pgmpy\\sampling\\Sampling.py:227: FutureWarning: The frame.append method is deprecated and will be removed from pandas in a future version. Use pandas.concat instead.\n",
      "  sampled = sampled.append(_sampled).iloc[:size, :]\n",
      "C:\\Users\\David\\anaconda3\\lib\\site-packages\\pgmpy\\sampling\\Sampling.py:227: FutureWarning: The frame.append method is deprecated and will be removed from pandas in a future version. Use pandas.concat instead.\n",
      "  sampled = sampled.append(_sampled).iloc[:size, :]\n",
      "C:\\Users\\David\\anaconda3\\lib\\site-packages\\pgmpy\\sampling\\Sampling.py:227: FutureWarning: The frame.append method is deprecated and will be removed from pandas in a future version. Use pandas.concat instead.\n",
      "  sampled = sampled.append(_sampled).iloc[:size, :]\n",
      "C:\\Users\\David\\anaconda3\\lib\\site-packages\\pgmpy\\sampling\\Sampling.py:227: FutureWarning: The frame.append method is deprecated and will be removed from pandas in a future version. Use pandas.concat instead.\n",
      "  sampled = sampled.append(_sampled).iloc[:size, :]\n",
      "C:\\Users\\David\\anaconda3\\lib\\site-packages\\pgmpy\\sampling\\Sampling.py:227: FutureWarning: The frame.append method is deprecated and will be removed from pandas in a future version. Use pandas.concat instead.\n",
      "  sampled = sampled.append(_sampled).iloc[:size, :]\n",
      "C:\\Users\\David\\anaconda3\\lib\\site-packages\\pgmpy\\sampling\\Sampling.py:227: FutureWarning: The frame.append method is deprecated and will be removed from pandas in a future version. Use pandas.concat instead.\n",
      "  sampled = sampled.append(_sampled).iloc[:size, :]\n",
      "C:\\Users\\David\\anaconda3\\lib\\site-packages\\pgmpy\\sampling\\Sampling.py:227: FutureWarning: The frame.append method is deprecated and will be removed from pandas in a future version. Use pandas.concat instead.\n",
      "  sampled = sampled.append(_sampled).iloc[:size, :]\n",
      "C:\\Users\\David\\anaconda3\\lib\\site-packages\\pgmpy\\sampling\\Sampling.py:227: FutureWarning: The frame.append method is deprecated and will be removed from pandas in a future version. Use pandas.concat instead.\n",
      "  sampled = sampled.append(_sampled).iloc[:size, :]\n",
      "C:\\Users\\David\\anaconda3\\lib\\site-packages\\pgmpy\\sampling\\Sampling.py:227: FutureWarning: The frame.append method is deprecated and will be removed from pandas in a future version. Use pandas.concat instead.\n",
      "  sampled = sampled.append(_sampled).iloc[:size, :]\n",
      "C:\\Users\\David\\anaconda3\\lib\\site-packages\\pgmpy\\sampling\\Sampling.py:227: FutureWarning: The frame.append method is deprecated and will be removed from pandas in a future version. Use pandas.concat instead.\n",
      "  sampled = sampled.append(_sampled).iloc[:size, :]\n",
      "C:\\Users\\David\\anaconda3\\lib\\site-packages\\pgmpy\\sampling\\Sampling.py:227: FutureWarning: The frame.append method is deprecated and will be removed from pandas in a future version. Use pandas.concat instead.\n",
      "  sampled = sampled.append(_sampled).iloc[:size, :]\n",
      "C:\\Users\\David\\anaconda3\\lib\\site-packages\\pgmpy\\sampling\\Sampling.py:227: FutureWarning: The frame.append method is deprecated and will be removed from pandas in a future version. Use pandas.concat instead.\n",
      "  sampled = sampled.append(_sampled).iloc[:size, :]\n",
      "C:\\Users\\David\\anaconda3\\lib\\site-packages\\pgmpy\\sampling\\Sampling.py:227: FutureWarning: The frame.append method is deprecated and will be removed from pandas in a future version. Use pandas.concat instead.\n",
      "  sampled = sampled.append(_sampled).iloc[:size, :]\n",
      "C:\\Users\\David\\anaconda3\\lib\\site-packages\\pgmpy\\sampling\\Sampling.py:227: FutureWarning: The frame.append method is deprecated and will be removed from pandas in a future version. Use pandas.concat instead.\n",
      "  sampled = sampled.append(_sampled).iloc[:size, :]\n",
      "C:\\Users\\David\\anaconda3\\lib\\site-packages\\pgmpy\\sampling\\Sampling.py:227: FutureWarning: The frame.append method is deprecated and will be removed from pandas in a future version. Use pandas.concat instead.\n",
      "  sampled = sampled.append(_sampled).iloc[:size, :]\n",
      "C:\\Users\\David\\anaconda3\\lib\\site-packages\\pgmpy\\sampling\\Sampling.py:227: FutureWarning: The frame.append method is deprecated and will be removed from pandas in a future version. Use pandas.concat instead.\n",
      "  sampled = sampled.append(_sampled).iloc[:size, :]\n",
      "C:\\Users\\David\\anaconda3\\lib\\site-packages\\pgmpy\\sampling\\Sampling.py:227: FutureWarning: The frame.append method is deprecated and will be removed from pandas in a future version. Use pandas.concat instead.\n",
      "  sampled = sampled.append(_sampled).iloc[:size, :]\n",
      "C:\\Users\\David\\anaconda3\\lib\\site-packages\\pgmpy\\sampling\\Sampling.py:227: FutureWarning: The frame.append method is deprecated and will be removed from pandas in a future version. Use pandas.concat instead.\n",
      "  sampled = sampled.append(_sampled).iloc[:size, :]\n",
      "C:\\Users\\David\\anaconda3\\lib\\site-packages\\pgmpy\\sampling\\Sampling.py:227: FutureWarning: The frame.append method is deprecated and will be removed from pandas in a future version. Use pandas.concat instead.\n",
      "  sampled = sampled.append(_sampled).iloc[:size, :]\n",
      "C:\\Users\\David\\anaconda3\\lib\\site-packages\\pgmpy\\sampling\\Sampling.py:227: FutureWarning: The frame.append method is deprecated and will be removed from pandas in a future version. Use pandas.concat instead.\n",
      "  sampled = sampled.append(_sampled).iloc[:size, :]\n",
      "C:\\Users\\David\\anaconda3\\lib\\site-packages\\pgmpy\\sampling\\Sampling.py:227: FutureWarning: The frame.append method is deprecated and will be removed from pandas in a future version. Use pandas.concat instead.\n",
      "  sampled = sampled.append(_sampled).iloc[:size, :]\n",
      "C:\\Users\\David\\anaconda3\\lib\\site-packages\\pgmpy\\sampling\\Sampling.py:227: FutureWarning: The frame.append method is deprecated and will be removed from pandas in a future version. Use pandas.concat instead.\n",
      "  sampled = sampled.append(_sampled).iloc[:size, :]\n",
      "C:\\Users\\David\\anaconda3\\lib\\site-packages\\pgmpy\\sampling\\Sampling.py:227: FutureWarning: The frame.append method is deprecated and will be removed from pandas in a future version. Use pandas.concat instead.\n",
      "  sampled = sampled.append(_sampled).iloc[:size, :]\n",
      "C:\\Users\\David\\anaconda3\\lib\\site-packages\\pgmpy\\sampling\\Sampling.py:227: FutureWarning: The frame.append method is deprecated and will be removed from pandas in a future version. Use pandas.concat instead.\n",
      "  sampled = sampled.append(_sampled).iloc[:size, :]\n",
      "C:\\Users\\David\\anaconda3\\lib\\site-packages\\pgmpy\\sampling\\Sampling.py:227: FutureWarning: The frame.append method is deprecated and will be removed from pandas in a future version. Use pandas.concat instead.\n",
      "  sampled = sampled.append(_sampled).iloc[:size, :]\n",
      "C:\\Users\\David\\anaconda3\\lib\\site-packages\\pgmpy\\sampling\\Sampling.py:227: FutureWarning: The frame.append method is deprecated and will be removed from pandas in a future version. Use pandas.concat instead.\n",
      "  sampled = sampled.append(_sampled).iloc[:size, :]\n",
      "C:\\Users\\David\\anaconda3\\lib\\site-packages\\pgmpy\\sampling\\Sampling.py:227: FutureWarning: The frame.append method is deprecated and will be removed from pandas in a future version. Use pandas.concat instead.\n",
      "  sampled = sampled.append(_sampled).iloc[:size, :]\n",
      "C:\\Users\\David\\anaconda3\\lib\\site-packages\\pgmpy\\sampling\\Sampling.py:227: FutureWarning: The frame.append method is deprecated and will be removed from pandas in a future version. Use pandas.concat instead.\n",
      "  sampled = sampled.append(_sampled).iloc[:size, :]\n",
      "C:\\Users\\David\\anaconda3\\lib\\site-packages\\pgmpy\\sampling\\Sampling.py:227: FutureWarning: The frame.append method is deprecated and will be removed from pandas in a future version. Use pandas.concat instead.\n",
      "  sampled = sampled.append(_sampled).iloc[:size, :]\n",
      "C:\\Users\\David\\anaconda3\\lib\\site-packages\\pgmpy\\sampling\\Sampling.py:227: FutureWarning: The frame.append method is deprecated and will be removed from pandas in a future version. Use pandas.concat instead.\n",
      "  sampled = sampled.append(_sampled).iloc[:size, :]\n",
      "C:\\Users\\David\\anaconda3\\lib\\site-packages\\pgmpy\\sampling\\Sampling.py:227: FutureWarning: The frame.append method is deprecated and will be removed from pandas in a future version. Use pandas.concat instead.\n",
      "  sampled = sampled.append(_sampled).iloc[:size, :]\n",
      "C:\\Users\\David\\anaconda3\\lib\\site-packages\\pgmpy\\sampling\\Sampling.py:227: FutureWarning: The frame.append method is deprecated and will be removed from pandas in a future version. Use pandas.concat instead.\n",
      "  sampled = sampled.append(_sampled).iloc[:size, :]\n",
      "C:\\Users\\David\\anaconda3\\lib\\site-packages\\pgmpy\\sampling\\Sampling.py:227: FutureWarning: The frame.append method is deprecated and will be removed from pandas in a future version. Use pandas.concat instead.\n",
      "  sampled = sampled.append(_sampled).iloc[:size, :]\n",
      "C:\\Users\\David\\anaconda3\\lib\\site-packages\\pgmpy\\sampling\\Sampling.py:227: FutureWarning: The frame.append method is deprecated and will be removed from pandas in a future version. Use pandas.concat instead.\n",
      "  sampled = sampled.append(_sampled).iloc[:size, :]\n",
      "C:\\Users\\David\\anaconda3\\lib\\site-packages\\pgmpy\\sampling\\Sampling.py:227: FutureWarning: The frame.append method is deprecated and will be removed from pandas in a future version. Use pandas.concat instead.\n",
      "  sampled = sampled.append(_sampled).iloc[:size, :]\n",
      "C:\\Users\\David\\anaconda3\\lib\\site-packages\\pgmpy\\sampling\\Sampling.py:227: FutureWarning: The frame.append method is deprecated and will be removed from pandas in a future version. Use pandas.concat instead.\n",
      "  sampled = sampled.append(_sampled).iloc[:size, :]\n",
      "C:\\Users\\David\\anaconda3\\lib\\site-packages\\pgmpy\\sampling\\Sampling.py:227: FutureWarning: The frame.append method is deprecated and will be removed from pandas in a future version. Use pandas.concat instead.\n",
      "  sampled = sampled.append(_sampled).iloc[:size, :]\n",
      "C:\\Users\\David\\anaconda3\\lib\\site-packages\\pgmpy\\sampling\\Sampling.py:227: FutureWarning: The frame.append method is deprecated and will be removed from pandas in a future version. Use pandas.concat instead.\n",
      "  sampled = sampled.append(_sampled).iloc[:size, :]\n",
      "C:\\Users\\David\\anaconda3\\lib\\site-packages\\pgmpy\\sampling\\Sampling.py:227: FutureWarning: The frame.append method is deprecated and will be removed from pandas in a future version. Use pandas.concat instead.\n",
      "  sampled = sampled.append(_sampled).iloc[:size, :]\n",
      "C:\\Users\\David\\anaconda3\\lib\\site-packages\\pgmpy\\sampling\\Sampling.py:227: FutureWarning: The frame.append method is deprecated and will be removed from pandas in a future version. Use pandas.concat instead.\n",
      "  sampled = sampled.append(_sampled).iloc[:size, :]\n",
      "C:\\Users\\David\\anaconda3\\lib\\site-packages\\pgmpy\\sampling\\Sampling.py:227: FutureWarning: The frame.append method is deprecated and will be removed from pandas in a future version. Use pandas.concat instead.\n",
      "  sampled = sampled.append(_sampled).iloc[:size, :]\n",
      "C:\\Users\\David\\anaconda3\\lib\\site-packages\\pgmpy\\sampling\\Sampling.py:227: FutureWarning: The frame.append method is deprecated and will be removed from pandas in a future version. Use pandas.concat instead.\n",
      "  sampled = sampled.append(_sampled).iloc[:size, :]\n",
      "C:\\Users\\David\\anaconda3\\lib\\site-packages\\pgmpy\\sampling\\Sampling.py:227: FutureWarning: The frame.append method is deprecated and will be removed from pandas in a future version. Use pandas.concat instead.\n",
      "  sampled = sampled.append(_sampled).iloc[:size, :]\n",
      "C:\\Users\\David\\anaconda3\\lib\\site-packages\\pgmpy\\sampling\\Sampling.py:227: FutureWarning: The frame.append method is deprecated and will be removed from pandas in a future version. Use pandas.concat instead.\n",
      "  sampled = sampled.append(_sampled).iloc[:size, :]\n",
      "C:\\Users\\David\\anaconda3\\lib\\site-packages\\pgmpy\\sampling\\Sampling.py:227: FutureWarning: The frame.append method is deprecated and will be removed from pandas in a future version. Use pandas.concat instead.\n",
      "  sampled = sampled.append(_sampled).iloc[:size, :]\n",
      "C:\\Users\\David\\anaconda3\\lib\\site-packages\\pgmpy\\sampling\\Sampling.py:227: FutureWarning: The frame.append method is deprecated and will be removed from pandas in a future version. Use pandas.concat instead.\n",
      "  sampled = sampled.append(_sampled).iloc[:size, :]\n",
      "C:\\Users\\David\\anaconda3\\lib\\site-packages\\pgmpy\\sampling\\Sampling.py:227: FutureWarning: The frame.append method is deprecated and will be removed from pandas in a future version. Use pandas.concat instead.\n",
      "  sampled = sampled.append(_sampled).iloc[:size, :]\n",
      "C:\\Users\\David\\anaconda3\\lib\\site-packages\\pgmpy\\sampling\\Sampling.py:227: FutureWarning: The frame.append method is deprecated and will be removed from pandas in a future version. Use pandas.concat instead.\n",
      "  sampled = sampled.append(_sampled).iloc[:size, :]\n",
      "C:\\Users\\David\\anaconda3\\lib\\site-packages\\pgmpy\\sampling\\Sampling.py:227: FutureWarning: The frame.append method is deprecated and will be removed from pandas in a future version. Use pandas.concat instead.\n",
      "  sampled = sampled.append(_sampled).iloc[:size, :]\n",
      "C:\\Users\\David\\anaconda3\\lib\\site-packages\\pgmpy\\sampling\\Sampling.py:227: FutureWarning: The frame.append method is deprecated and will be removed from pandas in a future version. Use pandas.concat instead.\n",
      "  sampled = sampled.append(_sampled).iloc[:size, :]\n",
      "C:\\Users\\David\\anaconda3\\lib\\site-packages\\pgmpy\\sampling\\Sampling.py:227: FutureWarning: The frame.append method is deprecated and will be removed from pandas in a future version. Use pandas.concat instead.\n",
      "  sampled = sampled.append(_sampled).iloc[:size, :]\n",
      "C:\\Users\\David\\anaconda3\\lib\\site-packages\\pgmpy\\sampling\\Sampling.py:227: FutureWarning: The frame.append method is deprecated and will be removed from pandas in a future version. Use pandas.concat instead.\n",
      "  sampled = sampled.append(_sampled).iloc[:size, :]\n",
      "C:\\Users\\David\\anaconda3\\lib\\site-packages\\pgmpy\\sampling\\Sampling.py:227: FutureWarning: The frame.append method is deprecated and will be removed from pandas in a future version. Use pandas.concat instead.\n",
      "  sampled = sampled.append(_sampled).iloc[:size, :]\n",
      "C:\\Users\\David\\anaconda3\\lib\\site-packages\\pgmpy\\sampling\\Sampling.py:227: FutureWarning: The frame.append method is deprecated and will be removed from pandas in a future version. Use pandas.concat instead.\n",
      "  sampled = sampled.append(_sampled).iloc[:size, :]\n",
      "C:\\Users\\David\\anaconda3\\lib\\site-packages\\pgmpy\\sampling\\Sampling.py:227: FutureWarning: The frame.append method is deprecated and will be removed from pandas in a future version. Use pandas.concat instead.\n",
      "  sampled = sampled.append(_sampled).iloc[:size, :]\n",
      "C:\\Users\\David\\anaconda3\\lib\\site-packages\\pgmpy\\sampling\\Sampling.py:227: FutureWarning: The frame.append method is deprecated and will be removed from pandas in a future version. Use pandas.concat instead.\n",
      "  sampled = sampled.append(_sampled).iloc[:size, :]\n",
      "C:\\Users\\David\\anaconda3\\lib\\site-packages\\pgmpy\\sampling\\Sampling.py:227: FutureWarning: The frame.append method is deprecated and will be removed from pandas in a future version. Use pandas.concat instead.\n",
      "  sampled = sampled.append(_sampled).iloc[:size, :]\n",
      "C:\\Users\\David\\anaconda3\\lib\\site-packages\\pgmpy\\sampling\\Sampling.py:227: FutureWarning: The frame.append method is deprecated and will be removed from pandas in a future version. Use pandas.concat instead.\n",
      "  sampled = sampled.append(_sampled).iloc[:size, :]\n",
      "C:\\Users\\David\\anaconda3\\lib\\site-packages\\pgmpy\\sampling\\Sampling.py:227: FutureWarning: The frame.append method is deprecated and will be removed from pandas in a future version. Use pandas.concat instead.\n",
      "  sampled = sampled.append(_sampled).iloc[:size, :]\n",
      "C:\\Users\\David\\anaconda3\\lib\\site-packages\\pgmpy\\sampling\\Sampling.py:227: FutureWarning: The frame.append method is deprecated and will be removed from pandas in a future version. Use pandas.concat instead.\n",
      "  sampled = sampled.append(_sampled).iloc[:size, :]\n",
      "C:\\Users\\David\\anaconda3\\lib\\site-packages\\pgmpy\\sampling\\Sampling.py:227: FutureWarning: The frame.append method is deprecated and will be removed from pandas in a future version. Use pandas.concat instead.\n",
      "  sampled = sampled.append(_sampled).iloc[:size, :]\n",
      "C:\\Users\\David\\anaconda3\\lib\\site-packages\\pgmpy\\sampling\\Sampling.py:227: FutureWarning: The frame.append method is deprecated and will be removed from pandas in a future version. Use pandas.concat instead.\n",
      "  sampled = sampled.append(_sampled).iloc[:size, :]\n",
      "C:\\Users\\David\\anaconda3\\lib\\site-packages\\pgmpy\\sampling\\Sampling.py:227: FutureWarning: The frame.append method is deprecated and will be removed from pandas in a future version. Use pandas.concat instead.\n",
      "  sampled = sampled.append(_sampled).iloc[:size, :]\n",
      "C:\\Users\\David\\anaconda3\\lib\\site-packages\\pgmpy\\sampling\\Sampling.py:227: FutureWarning: The frame.append method is deprecated and will be removed from pandas in a future version. Use pandas.concat instead.\n",
      "  sampled = sampled.append(_sampled).iloc[:size, :]\n",
      "C:\\Users\\David\\anaconda3\\lib\\site-packages\\pgmpy\\sampling\\Sampling.py:227: FutureWarning: The frame.append method is deprecated and will be removed from pandas in a future version. Use pandas.concat instead.\n",
      "  sampled = sampled.append(_sampled).iloc[:size, :]\n",
      "C:\\Users\\David\\anaconda3\\lib\\site-packages\\pgmpy\\sampling\\Sampling.py:227: FutureWarning: The frame.append method is deprecated and will be removed from pandas in a future version. Use pandas.concat instead.\n",
      "  sampled = sampled.append(_sampled).iloc[:size, :]\n",
      "C:\\Users\\David\\anaconda3\\lib\\site-packages\\pgmpy\\sampling\\Sampling.py:227: FutureWarning: The frame.append method is deprecated and will be removed from pandas in a future version. Use pandas.concat instead.\n",
      "  sampled = sampled.append(_sampled).iloc[:size, :]\n",
      "C:\\Users\\David\\anaconda3\\lib\\site-packages\\pgmpy\\sampling\\Sampling.py:227: FutureWarning: The frame.append method is deprecated and will be removed from pandas in a future version. Use pandas.concat instead.\n",
      "  sampled = sampled.append(_sampled).iloc[:size, :]\n",
      "C:\\Users\\David\\anaconda3\\lib\\site-packages\\pgmpy\\sampling\\Sampling.py:227: FutureWarning: The frame.append method is deprecated and will be removed from pandas in a future version. Use pandas.concat instead.\n",
      "  sampled = sampled.append(_sampled).iloc[:size, :]\n",
      "C:\\Users\\David\\anaconda3\\lib\\site-packages\\pgmpy\\sampling\\Sampling.py:227: FutureWarning: The frame.append method is deprecated and will be removed from pandas in a future version. Use pandas.concat instead.\n",
      "  sampled = sampled.append(_sampled).iloc[:size, :]\n",
      "C:\\Users\\David\\anaconda3\\lib\\site-packages\\pgmpy\\sampling\\Sampling.py:227: FutureWarning: The frame.append method is deprecated and will be removed from pandas in a future version. Use pandas.concat instead.\n",
      "  sampled = sampled.append(_sampled).iloc[:size, :]\n",
      "C:\\Users\\David\\anaconda3\\lib\\site-packages\\pgmpy\\sampling\\Sampling.py:227: FutureWarning: The frame.append method is deprecated and will be removed from pandas in a future version. Use pandas.concat instead.\n",
      "  sampled = sampled.append(_sampled).iloc[:size, :]\n",
      "C:\\Users\\David\\anaconda3\\lib\\site-packages\\pgmpy\\sampling\\Sampling.py:227: FutureWarning: The frame.append method is deprecated and will be removed from pandas in a future version. Use pandas.concat instead.\n",
      "  sampled = sampled.append(_sampled).iloc[:size, :]\n",
      "C:\\Users\\David\\anaconda3\\lib\\site-packages\\pgmpy\\sampling\\Sampling.py:227: FutureWarning: The frame.append method is deprecated and will be removed from pandas in a future version. Use pandas.concat instead.\n",
      "  sampled = sampled.append(_sampled).iloc[:size, :]\n",
      "C:\\Users\\David\\anaconda3\\lib\\site-packages\\pgmpy\\sampling\\Sampling.py:227: FutureWarning: The frame.append method is deprecated and will be removed from pandas in a future version. Use pandas.concat instead.\n",
      "  sampled = sampled.append(_sampled).iloc[:size, :]\n",
      "C:\\Users\\David\\anaconda3\\lib\\site-packages\\pgmpy\\sampling\\Sampling.py:227: FutureWarning: The frame.append method is deprecated and will be removed from pandas in a future version. Use pandas.concat instead.\n",
      "  sampled = sampled.append(_sampled).iloc[:size, :]\n",
      "C:\\Users\\David\\anaconda3\\lib\\site-packages\\pgmpy\\sampling\\Sampling.py:227: FutureWarning: The frame.append method is deprecated and will be removed from pandas in a future version. Use pandas.concat instead.\n",
      "  sampled = sampled.append(_sampled).iloc[:size, :]\n",
      "C:\\Users\\David\\anaconda3\\lib\\site-packages\\pgmpy\\sampling\\Sampling.py:227: FutureWarning: The frame.append method is deprecated and will be removed from pandas in a future version. Use pandas.concat instead.\n",
      "  sampled = sampled.append(_sampled).iloc[:size, :]\n",
      "C:\\Users\\David\\anaconda3\\lib\\site-packages\\pgmpy\\sampling\\Sampling.py:227: FutureWarning: The frame.append method is deprecated and will be removed from pandas in a future version. Use pandas.concat instead.\n",
      "  sampled = sampled.append(_sampled).iloc[:size, :]\n",
      "C:\\Users\\David\\anaconda3\\lib\\site-packages\\pgmpy\\sampling\\Sampling.py:227: FutureWarning: The frame.append method is deprecated and will be removed from pandas in a future version. Use pandas.concat instead.\n",
      "  sampled = sampled.append(_sampled).iloc[:size, :]\n",
      "C:\\Users\\David\\anaconda3\\lib\\site-packages\\pgmpy\\sampling\\Sampling.py:227: FutureWarning: The frame.append method is deprecated and will be removed from pandas in a future version. Use pandas.concat instead.\n",
      "  sampled = sampled.append(_sampled).iloc[:size, :]\n",
      "C:\\Users\\David\\anaconda3\\lib\\site-packages\\pgmpy\\sampling\\Sampling.py:227: FutureWarning: The frame.append method is deprecated and will be removed from pandas in a future version. Use pandas.concat instead.\n",
      "  sampled = sampled.append(_sampled).iloc[:size, :]\n",
      "C:\\Users\\David\\anaconda3\\lib\\site-packages\\pgmpy\\sampling\\Sampling.py:227: FutureWarning: The frame.append method is deprecated and will be removed from pandas in a future version. Use pandas.concat instead.\n",
      "  sampled = sampled.append(_sampled).iloc[:size, :]\n",
      "C:\\Users\\David\\anaconda3\\lib\\site-packages\\pgmpy\\sampling\\Sampling.py:227: FutureWarning: The frame.append method is deprecated and will be removed from pandas in a future version. Use pandas.concat instead.\n",
      "  sampled = sampled.append(_sampled).iloc[:size, :]\n",
      "C:\\Users\\David\\anaconda3\\lib\\site-packages\\pgmpy\\sampling\\Sampling.py:227: FutureWarning: The frame.append method is deprecated and will be removed from pandas in a future version. Use pandas.concat instead.\n",
      "  sampled = sampled.append(_sampled).iloc[:size, :]\n",
      "C:\\Users\\David\\anaconda3\\lib\\site-packages\\pgmpy\\sampling\\Sampling.py:227: FutureWarning: The frame.append method is deprecated and will be removed from pandas in a future version. Use pandas.concat instead.\n",
      "  sampled = sampled.append(_sampled).iloc[:size, :]\n",
      "C:\\Users\\David\\anaconda3\\lib\\site-packages\\pgmpy\\sampling\\Sampling.py:227: FutureWarning: The frame.append method is deprecated and will be removed from pandas in a future version. Use pandas.concat instead.\n",
      "  sampled = sampled.append(_sampled).iloc[:size, :]\n",
      "C:\\Users\\David\\anaconda3\\lib\\site-packages\\pgmpy\\sampling\\Sampling.py:227: FutureWarning: The frame.append method is deprecated and will be removed from pandas in a future version. Use pandas.concat instead.\n",
      "  sampled = sampled.append(_sampled).iloc[:size, :]\n",
      "C:\\Users\\David\\anaconda3\\lib\\site-packages\\pgmpy\\sampling\\Sampling.py:227: FutureWarning: The frame.append method is deprecated and will be removed from pandas in a future version. Use pandas.concat instead.\n",
      "  sampled = sampled.append(_sampled).iloc[:size, :]\n",
      "C:\\Users\\David\\anaconda3\\lib\\site-packages\\pgmpy\\sampling\\Sampling.py:227: FutureWarning: The frame.append method is deprecated and will be removed from pandas in a future version. Use pandas.concat instead.\n",
      "  sampled = sampled.append(_sampled).iloc[:size, :]\n",
      "C:\\Users\\David\\anaconda3\\lib\\site-packages\\pgmpy\\sampling\\Sampling.py:227: FutureWarning: The frame.append method is deprecated and will be removed from pandas in a future version. Use pandas.concat instead.\n",
      "  sampled = sampled.append(_sampled).iloc[:size, :]\n",
      "C:\\Users\\David\\anaconda3\\lib\\site-packages\\pgmpy\\sampling\\Sampling.py:227: FutureWarning: The frame.append method is deprecated and will be removed from pandas in a future version. Use pandas.concat instead.\n",
      "  sampled = sampled.append(_sampled).iloc[:size, :]\n",
      "C:\\Users\\David\\anaconda3\\lib\\site-packages\\pgmpy\\sampling\\Sampling.py:227: FutureWarning: The frame.append method is deprecated and will be removed from pandas in a future version. Use pandas.concat instead.\n",
      "  sampled = sampled.append(_sampled).iloc[:size, :]\n",
      "C:\\Users\\David\\anaconda3\\lib\\site-packages\\pgmpy\\sampling\\Sampling.py:227: FutureWarning: The frame.append method is deprecated and will be removed from pandas in a future version. Use pandas.concat instead.\n",
      "  sampled = sampled.append(_sampled).iloc[:size, :]\n",
      "C:\\Users\\David\\anaconda3\\lib\\site-packages\\pgmpy\\sampling\\Sampling.py:227: FutureWarning: The frame.append method is deprecated and will be removed from pandas in a future version. Use pandas.concat instead.\n",
      "  sampled = sampled.append(_sampled).iloc[:size, :]\n",
      "C:\\Users\\David\\anaconda3\\lib\\site-packages\\pgmpy\\sampling\\Sampling.py:227: FutureWarning: The frame.append method is deprecated and will be removed from pandas in a future version. Use pandas.concat instead.\n",
      "  sampled = sampled.append(_sampled).iloc[:size, :]\n",
      "C:\\Users\\David\\anaconda3\\lib\\site-packages\\pgmpy\\sampling\\Sampling.py:227: FutureWarning: The frame.append method is deprecated and will be removed from pandas in a future version. Use pandas.concat instead.\n",
      "  sampled = sampled.append(_sampled).iloc[:size, :]\n",
      "C:\\Users\\David\\anaconda3\\lib\\site-packages\\pgmpy\\sampling\\Sampling.py:227: FutureWarning: The frame.append method is deprecated and will be removed from pandas in a future version. Use pandas.concat instead.\n",
      "  sampled = sampled.append(_sampled).iloc[:size, :]\n",
      "C:\\Users\\David\\anaconda3\\lib\\site-packages\\pgmpy\\sampling\\Sampling.py:227: FutureWarning: The frame.append method is deprecated and will be removed from pandas in a future version. Use pandas.concat instead.\n",
      "  sampled = sampled.append(_sampled).iloc[:size, :]\n",
      "C:\\Users\\David\\anaconda3\\lib\\site-packages\\pgmpy\\sampling\\Sampling.py:227: FutureWarning: The frame.append method is deprecated and will be removed from pandas in a future version. Use pandas.concat instead.\n",
      "  sampled = sampled.append(_sampled).iloc[:size, :]\n",
      "C:\\Users\\David\\anaconda3\\lib\\site-packages\\pgmpy\\sampling\\Sampling.py:227: FutureWarning: The frame.append method is deprecated and will be removed from pandas in a future version. Use pandas.concat instead.\n",
      "  sampled = sampled.append(_sampled).iloc[:size, :]\n",
      "C:\\Users\\David\\anaconda3\\lib\\site-packages\\pgmpy\\sampling\\Sampling.py:227: FutureWarning: The frame.append method is deprecated and will be removed from pandas in a future version. Use pandas.concat instead.\n",
      "  sampled = sampled.append(_sampled).iloc[:size, :]\n",
      "C:\\Users\\David\\anaconda3\\lib\\site-packages\\pgmpy\\sampling\\Sampling.py:227: FutureWarning: The frame.append method is deprecated and will be removed from pandas in a future version. Use pandas.concat instead.\n",
      "  sampled = sampled.append(_sampled).iloc[:size, :]\n",
      "C:\\Users\\David\\anaconda3\\lib\\site-packages\\pgmpy\\sampling\\Sampling.py:227: FutureWarning: The frame.append method is deprecated and will be removed from pandas in a future version. Use pandas.concat instead.\n",
      "  sampled = sampled.append(_sampled).iloc[:size, :]\n",
      "C:\\Users\\David\\anaconda3\\lib\\site-packages\\pgmpy\\sampling\\Sampling.py:227: FutureWarning: The frame.append method is deprecated and will be removed from pandas in a future version. Use pandas.concat instead.\n",
      "  sampled = sampled.append(_sampled).iloc[:size, :]\n",
      "C:\\Users\\David\\anaconda3\\lib\\site-packages\\pgmpy\\sampling\\Sampling.py:227: FutureWarning: The frame.append method is deprecated and will be removed from pandas in a future version. Use pandas.concat instead.\n",
      "  sampled = sampled.append(_sampled).iloc[:size, :]\n",
      "C:\\Users\\David\\anaconda3\\lib\\site-packages\\pgmpy\\sampling\\Sampling.py:227: FutureWarning: The frame.append method is deprecated and will be removed from pandas in a future version. Use pandas.concat instead.\n",
      "  sampled = sampled.append(_sampled).iloc[:size, :]\n",
      "C:\\Users\\David\\anaconda3\\lib\\site-packages\\pgmpy\\sampling\\Sampling.py:227: FutureWarning: The frame.append method is deprecated and will be removed from pandas in a future version. Use pandas.concat instead.\n",
      "  sampled = sampled.append(_sampled).iloc[:size, :]\n",
      "C:\\Users\\David\\anaconda3\\lib\\site-packages\\pgmpy\\sampling\\Sampling.py:227: FutureWarning: The frame.append method is deprecated and will be removed from pandas in a future version. Use pandas.concat instead.\n",
      "  sampled = sampled.append(_sampled).iloc[:size, :]\n"
     ]
    }
   ],
   "source": [
    "infer = BayesianModelSampling(insurance_model)\n",
    "num_evidence = []\n",
    "reject_duration = []\n",
    "like_duration = []\n",
    "avg_weight = []\n",
    "for i in range(1, len(all_evidence)+1,1):\n",
    "    evidences = all_evidence[:i]\n",
    "    num_evidence.append(len(evidences))\n",
    "    start = default_timer()\n",
    "    reject_result = infer.rejection_sample(evidence=evidences, size=100,show_progress=False)\n",
    "    end = default_timer()\n",
    "    reject_duration.append(end-start)\n",
    "    start = default_timer()\n",
    "    like_result = infer.likelihood_weighted_sample(evidence=evidences, size=100, show_progress=False)\n",
    "    end = default_timer()\n",
    "    like_duration.append(end-start)\n",
    "    avg_weight.append(np.mean(like_result._weight))\n"
   ]
  },
  {
   "cell_type": "code",
   "execution_count": 112,
   "metadata": {
    "pycharm": {
     "name": "#%%\n"
    }
   },
   "outputs": [
    {
     "data": {
      "text/plain": [
       "[Text(0.5, 15.0, 'Number of evidences'),\n",
       " Text(263.3294117647059, 0.5, 'Average sample weight')]"
      ]
     },
     "execution_count": 112,
     "metadata": {},
     "output_type": "execute_result"
    },
    {
     "data": {
      "image/png": "[encoded data removed]",
      "text/plain": [
       "<Figure size 432x288 with 3 Axes>"
      ]
     },
     "metadata": {
      "needs_background": "light"
     },
     "output_type": "display_data"
    }
   ],
   "source": [
    "fig, (ax1, ax2, ax3) = plt.subplots(1, 3)\n",
    "fig.tight_layout()\n",
    "fig.suptitle('4.2(c)')\n",
    "ax1.scatter(num_evidence, reject_duration)\n",
    "ax1.set(xlabel='Number of evidences', ylabel='Rejection samping time')\n",
    "ax2.scatter(num_evidence, like_duration)\n",
    "ax2.set(xlabel='Number of evidences', ylabel='Likelihood weighting time')\n",
    "ax3.scatter(num_evidence, avg_weight)\n",
    "ax3.set(xlabel='Number of evidences', ylabel='Average sample weight')"
   ]
  },
  {
   "cell_type": "markdown",
   "metadata": {
    "pycharm": {
     "name": "#%% md\n"
    }
   },
   "source": [
    "(d)\n",
    "For rejection sampling, the time needed to perform sampling increase exponentially with the number of evidence. Because if the number of evidences increase, we have to reject a lot of sample to meet the requirement of observed evidence, so the time will increase a lot. For likelihood weighting, the time needed to perform sampling are almost the same regardless of the number of evidence. Because every sample generated meet the requirements of observed evidence and we will accept them all, so we spent almost the time for each evidence set. The average sample weight decrease with the number of evidence. Because more evidence means we have to times more p(e|parent(e)) in weight calculation, and they are all less than 1. So weights will approach 0 if more evidences are given."
   ]
  },
  {
   "cell_type": "markdown",
   "metadata": {
    "pycharm": {
     "name": "#%% md\n"
    }
   },
   "source": [
    "4.3"
   ]
  },
  {
   "cell_type": "code",
   "execution_count": 129,
   "metadata": {
    "pycharm": {
     "name": "#%%\n"
    }
   },
   "outputs": [],
   "source": [
    "full_data = pd.read_csv('data/full_data.csv')\n",
    "partial_data = pd.read_csv('data/partial_data.csv')"
   ]
  },
  {
   "cell_type": "code",
   "execution_count": 130,
   "metadata": {
    "pycharm": {
     "name": "#%%\n"
    }
   },
   "outputs": [],
   "source": [
    "network = BayesianNetwork([('tampering','alarm'),('fire','alarm'),('fire','smoke'),('alarm','leaving'),('leaving','report')])"
   ]
  },
  {
   "cell_type": "code",
   "execution_count": 131,
   "metadata": {
    "pycharm": {
     "name": "#%%\n"
    }
   },
   "outputs": [],
   "source": [
    "full_model = BayesianNetwork(ebunch=network.edges())\n",
    "partial_model = BayesianNetwork(ebunch=network.edges(), latents=['tampering','fire'])"
   ]
  },
  {
   "cell_type": "code",
   "execution_count": 132,
   "metadata": {
    "pycharm": {
     "name": "#%%\n"
    }
   },
   "outputs": [],
   "source": [
    "full_model.fit(data=full_data, estimator=MaximumLikelihoodEstimator)"
   ]
  },
  {
   "cell_type": "code",
   "execution_count": 133,
   "metadata": {
    "pycharm": {
     "name": "#%%\n"
    }
   },
   "outputs": [
    {
     "name": "stdout",
     "output_type": "stream",
     "text": [
      "+--------------+-------+\n",
      "| tampering(0) | 0.986 |\n",
      "+--------------+-------+\n",
      "| tampering(1) | 0.014 |\n",
      "+--------------+-------+\n",
      "+-----------+--------------+--------------+--------------+--------------+\n",
      "| fire      | fire(0)      | fire(0)      | fire(1)      | fire(1)      |\n",
      "+-----------+--------------+--------------+--------------+--------------+\n",
      "| tampering | tampering(0) | tampering(1) | tampering(0) | tampering(1) |\n",
      "+-----------+--------------+--------------+--------------+--------------+\n",
      "| alarm(0)  | 1.0          | 0.0          | 0.0          | 0.5          |\n",
      "+-----------+--------------+--------------+--------------+--------------+\n",
      "| alarm(1)  | 0.0          | 1.0          | 1.0          | 0.5          |\n",
      "+-----------+--------------+--------------+--------------+--------------+\n",
      "+------------+----------+----------+\n",
      "| alarm      | alarm(0) | alarm(1) |\n",
      "+------------+----------+----------+\n",
      "| leaving(0) | 1.0      | 0.16     |\n",
      "+------------+----------+----------+\n",
      "| leaving(1) | 0.0      | 0.84     |\n",
      "+------------+----------+----------+\n",
      "+---------+-------+\n",
      "| fire(0) | 0.989 |\n",
      "+---------+-------+\n",
      "| fire(1) | 0.011 |\n",
      "+---------+-------+\n",
      "+----------+----------------------+---------+\n",
      "| fire     | fire(0)              | fire(1) |\n",
      "+----------+----------------------+---------+\n",
      "| smoke(0) | 0.9949443882709808   | 0.0     |\n",
      "+----------+----------------------+---------+\n",
      "| smoke(1) | 0.005055611729019211 | 1.0     |\n",
      "+----------+----------------------+---------+\n",
      "+-----------+----------------------+---------------------+\n",
      "| leaving   | leaving(0)           | leaving(1)          |\n",
      "+-----------+----------------------+---------------------+\n",
      "| report(0) | 0.9877425944841676   | 0.23809523809523808 |\n",
      "+-----------+----------------------+---------------------+\n",
      "| report(1) | 0.012257405515832482 | 0.7619047619047619  |\n",
      "+-----------+----------------------+---------------------+\n"
     ]
    }
   ],
   "source": [
    "for x in full_model.cpds:\n",
    "    print(x)"
   ]
  },
  {
   "cell_type": "code",
   "execution_count": 134,
   "metadata": {
    "pycharm": {
     "name": "#%%\n"
    }
   },
   "outputs": [
    {
     "data": {
      "application/vnd.jupyter.widget-view+json": {
       "model_id": "56305fbab6ae4ce69e3ce393a65cab71",
       "version_major": 2,
       "version_minor": 0
      },
      "text/plain": [
       "  0%|          | 0/100 [00:00<?, ?it/s]"
      ]
     },
     "metadata": {},
     "output_type": "display_data"
    }
   ],
   "source": [
    "partial_model.fit(data=partial_data,estimator=EM)"
   ]
  },
  {
   "cell_type": "code",
   "execution_count": 128,
   "metadata": {
    "pycharm": {
     "name": "#%%\n"
    }
   },
   "outputs": [
    {
     "name": "stdout",
     "output_type": "stream",
     "text": [
      "+--------------+---------+\n",
      "| tampering(0) | 0.17221 |\n",
      "+--------------+---------+\n",
      "| tampering(1) | 0.82779 |\n",
      "+--------------+---------+\n",
      "+-----------+-----------------------+-----+---------------------+\n",
      "| fire      | fire(0)               | ... | fire(1)             |\n",
      "+-----------+-----------------------+-----+---------------------+\n",
      "| tampering | tampering(0)          | ... | tampering(1)        |\n",
      "+-----------+-----------------------+-----+---------------------+\n",
      "| alarm(0)  | 0.9999897693787494    | ... | 0.29607620464556683 |\n",
      "+-----------+-----------------------+-----+---------------------+\n",
      "| alarm(1)  | 1.023062125059753e-05 | ... | 0.7039237953544332  |\n",
      "+-----------+-----------------------+-----+---------------------+\n",
      "+------------+----------+----------+\n",
      "| alarm      | alarm(0) | alarm(1) |\n",
      "+------------+----------+----------+\n",
      "| leaving(0) | 1.0      | 0.16     |\n",
      "+------------+----------+----------+\n",
      "| leaving(1) | 0.0      | 0.84     |\n",
      "+------------+----------+----------+\n",
      "+---------+-----------+\n",
      "| fire(0) | 0.963648  |\n",
      "+---------+-----------+\n",
      "| fire(1) | 0.0363517 |\n",
      "+---------+-----------+\n",
      "+----------+-----------------------+---------------------+\n",
      "| fire     | fire(0)               | fire(1)             |\n",
      "+----------+-----------------------+---------------------+\n",
      "| smoke(0) | 0.9999999991236141    | 0.5598553928864185  |\n",
      "+----------+-----------------------+---------------------+\n",
      "| smoke(1) | 8.763859122687414e-10 | 0.44014460711358155 |\n",
      "+----------+-----------------------+---------------------+\n",
      "+-----------+---------------------+---------------------+\n",
      "| leaving   | leaving(0)          | leaving(1)          |\n",
      "+-----------+---------------------+---------------------+\n",
      "| report(0) | 0.9877425944841676  | 0.23809523809523808 |\n",
      "+-----------+---------------------+---------------------+\n",
      "| report(1) | 0.01225740551583248 | 0.7619047619047619  |\n",
      "+-----------+---------------------+---------------------+\n"
     ]
    }
   ],
   "source": [
    "for x in partial_model.cpds:\n",
    "    print(x)"
   ]
  }
 ],
 "metadata": {
  "kernelspec": {
   "display_name": "Python 3 (ipykernel)",
   "language": "python",
   "name": "python3"
  },
  "language_info": {
   "codemirror_mode": {
    "name": "ipython",
    "version": 3
   },
   "file_extension": ".py",
   "mimetype": "text/x-python",
   "name": "python",
   "nbconvert_exporter": "python",
   "pygments_lexer": "ipython3",
   "version": "3.9.12"
  }
 },
 "nbformat": 4,
 "nbformat_minor": 1
}